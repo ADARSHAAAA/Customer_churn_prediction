{
 "cells": [
  {
   "cell_type": "code",
   "execution_count": 1,
   "id": "04ed33ba",
   "metadata": {
    "_cell_guid": "b1076dfc-b9ad-4769-8c92-a6c4dae69d19",
    "_uuid": "8f2839f25d086af736a60e9eeb907d3b93b6e0e5",
    "execution": {
     "iopub.execute_input": "2025-06-19T12:06:15.094084Z",
     "iopub.status.busy": "2025-06-19T12:06:15.093720Z",
     "iopub.status.idle": "2025-06-19T12:06:17.007906Z",
     "shell.execute_reply": "2025-06-19T12:06:17.006948Z"
    },
    "papermill": {
     "duration": 1.923975,
     "end_time": "2025-06-19T12:06:17.009513",
     "exception": false,
     "start_time": "2025-06-19T12:06:15.085538",
     "status": "completed"
    },
    "tags": []
   },
   "outputs": [
    {
     "name": "stdout",
     "output_type": "stream",
     "text": [
      "/kaggle/input/credit-card-customer-churn-prediction/Churn_Modelling.csv\n"
     ]
    }
   ],
   "source": [
    "# This Python 3 environment comes with many helpful analytics libraries installed\n",
    "# It is defined by the kaggle/python Docker image: https://github.com/kaggle/docker-python\n",
    "# For example, here's several helpful packages to load\n",
    "\n",
    "import numpy as np # linear algebra\n",
    "import pandas as pd # data processing, CSV file I/O (e.g. pd.read_csv)\n",
    "\n",
    "# Input data files are available in the read-only \"../input/\" directory\n",
    "# For example, running this (by clicking run or pressing Shift+Enter) will list all files under the input directory\n",
    "\n",
    "import os\n",
    "for dirname, _, filenames in os.walk('/kaggle/input'):\n",
    "    for filename in filenames:\n",
    "        print(os.path.join(dirname, filename))\n",
    "\n",
    "# You can write up to 20GB to the current directory (/kaggle/working/) that gets preserved as output when you create a version using \"Save & Run All\" \n",
    "# You can also write temporary files to /kaggle/temp/, but they won't be saved outside of the current session"
   ]
  },
  {
   "cell_type": "code",
   "execution_count": 2,
   "id": "23eb624c",
   "metadata": {
    "execution": {
     "iopub.execute_input": "2025-06-19T12:06:17.024421Z",
     "iopub.status.busy": "2025-06-19T12:06:17.024019Z",
     "iopub.status.idle": "2025-06-19T12:06:17.071527Z",
     "shell.execute_reply": "2025-06-19T12:06:17.070640Z"
    },
    "papermill": {
     "duration": 0.056628,
     "end_time": "2025-06-19T12:06:17.073172",
     "exception": false,
     "start_time": "2025-06-19T12:06:17.016544",
     "status": "completed"
    },
    "tags": []
   },
   "outputs": [],
   "source": [
    "# importing the csv file \n",
    "df = pd.read_csv('/kaggle/input/credit-card-customer-churn-prediction/Churn_Modelling.csv')"
   ]
  },
  {
   "cell_type": "code",
   "execution_count": 3,
   "id": "83c14769",
   "metadata": {
    "execution": {
     "iopub.execute_input": "2025-06-19T12:06:17.088117Z",
     "iopub.status.busy": "2025-06-19T12:06:17.087317Z",
     "iopub.status.idle": "2025-06-19T12:06:17.093764Z",
     "shell.execute_reply": "2025-06-19T12:06:17.092987Z"
    },
    "papermill": {
     "duration": 0.015123,
     "end_time": "2025-06-19T12:06:17.095169",
     "exception": false,
     "start_time": "2025-06-19T12:06:17.080046",
     "status": "completed"
    },
    "tags": []
   },
   "outputs": [
    {
     "data": {
      "text/plain": [
       "(10000, 14)"
      ]
     },
     "execution_count": 3,
     "metadata": {},
     "output_type": "execute_result"
    }
   ],
   "source": [
    "# in the very first line i wnat to know the shape of dataframe \n",
    "df.shape"
   ]
  },
  {
   "cell_type": "code",
   "execution_count": 4,
   "id": "e00e3bd9",
   "metadata": {
    "execution": {
     "iopub.execute_input": "2025-06-19T12:06:17.109997Z",
     "iopub.status.busy": "2025-06-19T12:06:17.109650Z",
     "iopub.status.idle": "2025-06-19T12:06:17.125647Z",
     "shell.execute_reply": "2025-06-19T12:06:17.124700Z"
    },
    "papermill": {
     "duration": 0.025494,
     "end_time": "2025-06-19T12:06:17.127214",
     "exception": false,
     "start_time": "2025-06-19T12:06:17.101720",
     "status": "completed"
    },
    "tags": []
   },
   "outputs": [
    {
     "data": {
      "text/plain": [
       "RowNumber          0\n",
       "CustomerId         0\n",
       "Surname            0\n",
       "CreditScore        0\n",
       "Geography          0\n",
       "Gender             0\n",
       "Age                0\n",
       "Tenure             0\n",
       "Balance            0\n",
       "NumOfProducts      0\n",
       "HasCrCard          0\n",
       "IsActiveMember     0\n",
       "EstimatedSalary    0\n",
       "Exited             0\n",
       "dtype: int64"
      ]
     },
     "execution_count": 4,
     "metadata": {},
     "output_type": "execute_result"
    }
   ],
   "source": [
    "# in this i am chacking that which column has how much null values\n",
    "df.isnull().sum()"
   ]
  },
  {
   "cell_type": "code",
   "execution_count": 5,
   "id": "e855146a",
   "metadata": {
    "execution": {
     "iopub.execute_input": "2025-06-19T12:06:17.141307Z",
     "iopub.status.busy": "2025-06-19T12:06:17.140667Z",
     "iopub.status.idle": "2025-06-19T12:06:17.164286Z",
     "shell.execute_reply": "2025-06-19T12:06:17.163332Z"
    },
    "papermill": {
     "duration": 0.031989,
     "end_time": "2025-06-19T12:06:17.165619",
     "exception": false,
     "start_time": "2025-06-19T12:06:17.133630",
     "status": "completed"
    },
    "tags": []
   },
   "outputs": [
    {
     "name": "stdout",
     "output_type": "stream",
     "text": [
      "<class 'pandas.core.frame.DataFrame'>\n",
      "RangeIndex: 10000 entries, 0 to 9999\n",
      "Data columns (total 14 columns):\n",
      " #   Column           Non-Null Count  Dtype  \n",
      "---  ------           --------------  -----  \n",
      " 0   RowNumber        10000 non-null  int64  \n",
      " 1   CustomerId       10000 non-null  int64  \n",
      " 2   Surname          10000 non-null  object \n",
      " 3   CreditScore      10000 non-null  int64  \n",
      " 4   Geography        10000 non-null  object \n",
      " 5   Gender           10000 non-null  object \n",
      " 6   Age              10000 non-null  int64  \n",
      " 7   Tenure           10000 non-null  int64  \n",
      " 8   Balance          10000 non-null  float64\n",
      " 9   NumOfProducts    10000 non-null  int64  \n",
      " 10  HasCrCard        10000 non-null  int64  \n",
      " 11  IsActiveMember   10000 non-null  int64  \n",
      " 12  EstimatedSalary  10000 non-null  float64\n",
      " 13  Exited           10000 non-null  int64  \n",
      "dtypes: float64(2), int64(9), object(3)\n",
      "memory usage: 1.1+ MB\n"
     ]
    }
   ],
   "source": [
    "# this tells the dtype and null values also\n",
    "df.info()"
   ]
  },
  {
   "cell_type": "code",
   "execution_count": 6,
   "id": "c574c69b",
   "metadata": {
    "execution": {
     "iopub.execute_input": "2025-06-19T12:06:17.180227Z",
     "iopub.status.busy": "2025-06-19T12:06:17.179507Z",
     "iopub.status.idle": "2025-06-19T12:06:17.190750Z",
     "shell.execute_reply": "2025-06-19T12:06:17.189982Z"
    },
    "papermill": {
     "duration": 0.019757,
     "end_time": "2025-06-19T12:06:17.192211",
     "exception": false,
     "start_time": "2025-06-19T12:06:17.172454",
     "status": "completed"
    },
    "tags": []
   },
   "outputs": [
    {
     "data": {
      "text/plain": [
       "0"
      ]
     },
     "execution_count": 6,
     "metadata": {},
     "output_type": "execute_result"
    }
   ],
   "source": [
    "# this line work to get the duplicates in the df\n",
    "df.duplicated().sum()"
   ]
  },
  {
   "cell_type": "code",
   "execution_count": 7,
   "id": "a32f7586",
   "metadata": {
    "execution": {
     "iopub.execute_input": "2025-06-19T12:06:17.206526Z",
     "iopub.status.busy": "2025-06-19T12:06:17.206244Z",
     "iopub.status.idle": "2025-06-19T12:06:17.213851Z",
     "shell.execute_reply": "2025-06-19T12:06:17.213138Z"
    },
    "papermill": {
     "duration": 0.016644,
     "end_time": "2025-06-19T12:06:17.215390",
     "exception": false,
     "start_time": "2025-06-19T12:06:17.198746",
     "status": "completed"
    },
    "tags": []
   },
   "outputs": [
    {
     "data": {
      "text/plain": [
       "Exited\n",
       "0    7963\n",
       "1    2037\n",
       "Name: count, dtype: int64"
      ]
     },
     "execution_count": 7,
     "metadata": {},
     "output_type": "execute_result"
    }
   ],
   "source": [
    "# thhis is categorical column and i want to know the unique values in them \n",
    "df['Exited'].value_counts()"
   ]
  },
  {
   "cell_type": "code",
   "execution_count": 8,
   "id": "5cabe2ca",
   "metadata": {
    "execution": {
     "iopub.execute_input": "2025-06-19T12:06:17.230567Z",
     "iopub.status.busy": "2025-06-19T12:06:17.229681Z",
     "iopub.status.idle": "2025-06-19T12:06:17.237624Z",
     "shell.execute_reply": "2025-06-19T12:06:17.236778Z"
    },
    "papermill": {
     "duration": 0.016954,
     "end_time": "2025-06-19T12:06:17.239113",
     "exception": false,
     "start_time": "2025-06-19T12:06:17.222159",
     "status": "completed"
    },
    "tags": []
   },
   "outputs": [
    {
     "data": {
      "text/plain": [
       "Geography\n",
       "France     5014\n",
       "Germany    2509\n",
       "Spain      2477\n",
       "Name: count, dtype: int64"
      ]
     },
     "execution_count": 8,
     "metadata": {},
     "output_type": "execute_result"
    }
   ],
   "source": [
    "df['Geography'].value_counts()"
   ]
  },
  {
   "cell_type": "code",
   "execution_count": 9,
   "id": "036d4544",
   "metadata": {
    "execution": {
     "iopub.execute_input": "2025-06-19T12:06:17.258032Z",
     "iopub.status.busy": "2025-06-19T12:06:17.257700Z",
     "iopub.status.idle": "2025-06-19T12:06:17.267640Z",
     "shell.execute_reply": "2025-06-19T12:06:17.266717Z"
    },
    "papermill": {
     "duration": 0.022341,
     "end_time": "2025-06-19T12:06:17.269196",
     "exception": false,
     "start_time": "2025-06-19T12:06:17.246855",
     "status": "completed"
    },
    "tags": []
   },
   "outputs": [
    {
     "data": {
      "text/plain": [
       "Gender\n",
       "Male      5457\n",
       "Female    4543\n",
       "Name: count, dtype: int64"
      ]
     },
     "execution_count": 9,
     "metadata": {},
     "output_type": "execute_result"
    }
   ],
   "source": [
    "df['Gender'].value_counts()"
   ]
  },
  {
   "cell_type": "code",
   "execution_count": 10,
   "id": "c2f53b72",
   "metadata": {
    "execution": {
     "iopub.execute_input": "2025-06-19T12:06:17.288816Z",
     "iopub.status.busy": "2025-06-19T12:06:17.288054Z",
     "iopub.status.idle": "2025-06-19T12:06:17.296849Z",
     "shell.execute_reply": "2025-06-19T12:06:17.295960Z"
    },
    "papermill": {
     "duration": 0.022067,
     "end_time": "2025-06-19T12:06:17.299038",
     "exception": false,
     "start_time": "2025-06-19T12:06:17.276971",
     "status": "completed"
    },
    "tags": []
   },
   "outputs": [
    {
     "data": {
      "text/plain": [
       "Tenure\n",
       "2     1048\n",
       "1     1035\n",
       "7     1028\n",
       "8     1025\n",
       "5     1012\n",
       "3     1009\n",
       "4      989\n",
       "9      984\n",
       "6      967\n",
       "10     490\n",
       "0      413\n",
       "Name: count, dtype: int64"
      ]
     },
     "execution_count": 10,
     "metadata": {},
     "output_type": "execute_result"
    }
   ],
   "source": [
    "df['Tenure'].value_counts()"
   ]
  },
  {
   "cell_type": "code",
   "execution_count": 11,
   "id": "214ce000",
   "metadata": {
    "execution": {
     "iopub.execute_input": "2025-06-19T12:06:17.321467Z",
     "iopub.status.busy": "2025-06-19T12:06:17.321176Z",
     "iopub.status.idle": "2025-06-19T12:06:17.328023Z",
     "shell.execute_reply": "2025-06-19T12:06:17.327320Z"
    },
    "papermill": {
     "duration": 0.018037,
     "end_time": "2025-06-19T12:06:17.329436",
     "exception": false,
     "start_time": "2025-06-19T12:06:17.311399",
     "status": "completed"
    },
    "tags": []
   },
   "outputs": [
    {
     "data": {
      "text/plain": [
       "NumOfProducts\n",
       "1    5084\n",
       "2    4590\n",
       "3     266\n",
       "4      60\n",
       "Name: count, dtype: int64"
      ]
     },
     "execution_count": 11,
     "metadata": {},
     "output_type": "execute_result"
    }
   ],
   "source": [
    "df['NumOfProducts'].value_counts()"
   ]
  },
  {
   "cell_type": "code",
   "execution_count": 12,
   "id": "080e6e8b",
   "metadata": {
    "execution": {
     "iopub.execute_input": "2025-06-19T12:06:17.344298Z",
     "iopub.status.busy": "2025-06-19T12:06:17.344000Z",
     "iopub.status.idle": "2025-06-19T12:06:17.351008Z",
     "shell.execute_reply": "2025-06-19T12:06:17.350169Z"
    },
    "papermill": {
     "duration": 0.016074,
     "end_time": "2025-06-19T12:06:17.352331",
     "exception": false,
     "start_time": "2025-06-19T12:06:17.336257",
     "status": "completed"
    },
    "tags": []
   },
   "outputs": [
    {
     "data": {
      "text/plain": [
       "HasCrCard\n",
       "1    7055\n",
       "0    2945\n",
       "Name: count, dtype: int64"
      ]
     },
     "execution_count": 12,
     "metadata": {},
     "output_type": "execute_result"
    }
   ],
   "source": [
    "df['HasCrCard'].value_counts()"
   ]
  },
  {
   "cell_type": "code",
   "execution_count": 13,
   "id": "ac1ed6a8",
   "metadata": {
    "execution": {
     "iopub.execute_input": "2025-06-19T12:06:17.368448Z",
     "iopub.status.busy": "2025-06-19T12:06:17.367692Z",
     "iopub.status.idle": "2025-06-19T12:06:17.379784Z",
     "shell.execute_reply": "2025-06-19T12:06:17.378995Z"
    },
    "papermill": {
     "duration": 0.022593,
     "end_time": "2025-06-19T12:06:17.381879",
     "exception": false,
     "start_time": "2025-06-19T12:06:17.359286",
     "status": "completed"
    },
    "tags": []
   },
   "outputs": [
    {
     "data": {
      "text/plain": [
       "IsActiveMember\n",
       "1    5151\n",
       "0    4849\n",
       "Name: count, dtype: int64"
      ]
     },
     "execution_count": 13,
     "metadata": {},
     "output_type": "execute_result"
    }
   ],
   "source": [
    "df['IsActiveMember'].value_counts()"
   ]
  },
  {
   "cell_type": "code",
   "execution_count": 14,
   "id": "ba0030d1",
   "metadata": {
    "execution": {
     "iopub.execute_input": "2025-06-19T12:06:17.400736Z",
     "iopub.status.busy": "2025-06-19T12:06:17.400359Z",
     "iopub.status.idle": "2025-06-19T12:06:17.407861Z",
     "shell.execute_reply": "2025-06-19T12:06:17.406985Z"
    },
    "papermill": {
     "duration": 0.017946,
     "end_time": "2025-06-19T12:06:17.409557",
     "exception": false,
     "start_time": "2025-06-19T12:06:17.391611",
     "status": "completed"
    },
    "tags": []
   },
   "outputs": [
    {
     "name": "stdout",
     "output_type": "stream",
     "text": [
      "100090.239881\n"
     ]
    }
   ],
   "source": [
    "df['EstimatedSalary'].mean()\n",
    "print(df['EstimatedSalary'].sum()/df.shape[0])"
   ]
  },
  {
   "cell_type": "code",
   "execution_count": 15,
   "id": "d43eacd9",
   "metadata": {
    "execution": {
     "iopub.execute_input": "2025-06-19T12:06:17.433675Z",
     "iopub.status.busy": "2025-06-19T12:06:17.433352Z",
     "iopub.status.idle": "2025-06-19T12:06:17.443227Z",
     "shell.execute_reply": "2025-06-19T12:06:17.442080Z"
    },
    "papermill": {
     "duration": 0.026016,
     "end_time": "2025-06-19T12:06:17.444828",
     "exception": false,
     "start_time": "2025-06-19T12:06:17.418812",
     "status": "completed"
    },
    "tags": []
   },
   "outputs": [],
   "source": [
    "# droping the unnecessary column\n",
    "df = df.drop(columns = ['RowNumber','CustomerId','Surname'],axis=1)"
   ]
  },
  {
   "cell_type": "code",
   "execution_count": 16,
   "id": "632d3915",
   "metadata": {
    "execution": {
     "iopub.execute_input": "2025-06-19T12:06:17.463400Z",
     "iopub.status.busy": "2025-06-19T12:06:17.462887Z",
     "iopub.status.idle": "2025-06-19T12:06:17.490152Z",
     "shell.execute_reply": "2025-06-19T12:06:17.488964Z"
    },
    "papermill": {
     "duration": 0.039839,
     "end_time": "2025-06-19T12:06:17.492440",
     "exception": false,
     "start_time": "2025-06-19T12:06:17.452601",
     "status": "completed"
    },
    "tags": []
   },
   "outputs": [
    {
     "data": {
      "text/html": [
       "<div>\n",
       "<style scoped>\n",
       "    .dataframe tbody tr th:only-of-type {\n",
       "        vertical-align: middle;\n",
       "    }\n",
       "\n",
       "    .dataframe tbody tr th {\n",
       "        vertical-align: top;\n",
       "    }\n",
       "\n",
       "    .dataframe thead th {\n",
       "        text-align: right;\n",
       "    }\n",
       "</style>\n",
       "<table border=\"1\" class=\"dataframe\">\n",
       "  <thead>\n",
       "    <tr style=\"text-align: right;\">\n",
       "      <th></th>\n",
       "      <th>CreditScore</th>\n",
       "      <th>Geography</th>\n",
       "      <th>Gender</th>\n",
       "      <th>Age</th>\n",
       "      <th>Tenure</th>\n",
       "      <th>Balance</th>\n",
       "      <th>NumOfProducts</th>\n",
       "      <th>HasCrCard</th>\n",
       "      <th>IsActiveMember</th>\n",
       "      <th>EstimatedSalary</th>\n",
       "      <th>Exited</th>\n",
       "    </tr>\n",
       "  </thead>\n",
       "  <tbody>\n",
       "    <tr>\n",
       "      <th>3127</th>\n",
       "      <td>776</td>\n",
       "      <td>Germany</td>\n",
       "      <td>Male</td>\n",
       "      <td>33</td>\n",
       "      <td>8</td>\n",
       "      <td>115130.34</td>\n",
       "      <td>1</td>\n",
       "      <td>0</td>\n",
       "      <td>0</td>\n",
       "      <td>129525.5</td>\n",
       "      <td>1</td>\n",
       "    </tr>\n",
       "  </tbody>\n",
       "</table>\n",
       "</div>"
      ],
      "text/plain": [
       "      CreditScore Geography Gender  Age  Tenure    Balance  NumOfProducts  \\\n",
       "3127          776   Germany   Male   33       8  115130.34              1   \n",
       "\n",
       "      HasCrCard  IsActiveMember  EstimatedSalary  Exited  \n",
       "3127          0               0         129525.5       1  "
      ]
     },
     "execution_count": 16,
     "metadata": {},
     "output_type": "execute_result"
    }
   ],
   "source": [
    "df.sample(1)"
   ]
  },
  {
   "cell_type": "code",
   "execution_count": 17,
   "id": "afb8cbe9",
   "metadata": {
    "execution": {
     "iopub.execute_input": "2025-06-19T12:06:17.526729Z",
     "iopub.status.busy": "2025-06-19T12:06:17.526272Z",
     "iopub.status.idle": "2025-06-19T12:06:17.538754Z",
     "shell.execute_reply": "2025-06-19T12:06:17.537715Z"
    },
    "papermill": {
     "duration": 0.031348,
     "end_time": "2025-06-19T12:06:17.540873",
     "exception": false,
     "start_time": "2025-06-19T12:06:17.509525",
     "status": "completed"
    },
    "tags": []
   },
   "outputs": [],
   "source": [
    "# this assign numbers to the categories in the df\n",
    "df = pd.get_dummies(df,columns=['Geography','Gender'],drop_first=True)"
   ]
  },
  {
   "cell_type": "code",
   "execution_count": 18,
   "id": "dd594759",
   "metadata": {
    "execution": {
     "iopub.execute_input": "2025-06-19T12:06:17.558774Z",
     "iopub.status.busy": "2025-06-19T12:06:17.558478Z",
     "iopub.status.idle": "2025-06-19T12:06:17.571619Z",
     "shell.execute_reply": "2025-06-19T12:06:17.570754Z"
    },
    "papermill": {
     "duration": 0.023941,
     "end_time": "2025-06-19T12:06:17.573136",
     "exception": false,
     "start_time": "2025-06-19T12:06:17.549195",
     "status": "completed"
    },
    "tags": []
   },
   "outputs": [
    {
     "data": {
      "text/html": [
       "<div>\n",
       "<style scoped>\n",
       "    .dataframe tbody tr th:only-of-type {\n",
       "        vertical-align: middle;\n",
       "    }\n",
       "\n",
       "    .dataframe tbody tr th {\n",
       "        vertical-align: top;\n",
       "    }\n",
       "\n",
       "    .dataframe thead th {\n",
       "        text-align: right;\n",
       "    }\n",
       "</style>\n",
       "<table border=\"1\" class=\"dataframe\">\n",
       "  <thead>\n",
       "    <tr style=\"text-align: right;\">\n",
       "      <th></th>\n",
       "      <th>CreditScore</th>\n",
       "      <th>Age</th>\n",
       "      <th>Tenure</th>\n",
       "      <th>Balance</th>\n",
       "      <th>NumOfProducts</th>\n",
       "      <th>HasCrCard</th>\n",
       "      <th>IsActiveMember</th>\n",
       "      <th>EstimatedSalary</th>\n",
       "      <th>Exited</th>\n",
       "      <th>Geography_Germany</th>\n",
       "      <th>Geography_Spain</th>\n",
       "      <th>Gender_Male</th>\n",
       "    </tr>\n",
       "  </thead>\n",
       "  <tbody>\n",
       "    <tr>\n",
       "      <th>0</th>\n",
       "      <td>619</td>\n",
       "      <td>42</td>\n",
       "      <td>2</td>\n",
       "      <td>0.0</td>\n",
       "      <td>1</td>\n",
       "      <td>1</td>\n",
       "      <td>1</td>\n",
       "      <td>101348.88</td>\n",
       "      <td>1</td>\n",
       "      <td>False</td>\n",
       "      <td>False</td>\n",
       "      <td>False</td>\n",
       "    </tr>\n",
       "  </tbody>\n",
       "</table>\n",
       "</div>"
      ],
      "text/plain": [
       "   CreditScore  Age  Tenure  Balance  NumOfProducts  HasCrCard  \\\n",
       "0          619   42       2      0.0              1          1   \n",
       "\n",
       "   IsActiveMember  EstimatedSalary  Exited  Geography_Germany  \\\n",
       "0               1        101348.88       1              False   \n",
       "\n",
       "   Geography_Spain  Gender_Male  \n",
       "0            False        False  "
      ]
     },
     "execution_count": 18,
     "metadata": {},
     "output_type": "execute_result"
    }
   ],
   "source": [
    "df.head(1)"
   ]
  },
  {
   "cell_type": "code",
   "execution_count": 19,
   "id": "1a1f3eaa",
   "metadata": {
    "execution": {
     "iopub.execute_input": "2025-06-19T12:06:17.589030Z",
     "iopub.status.busy": "2025-06-19T12:06:17.588709Z",
     "iopub.status.idle": "2025-06-19T12:06:17.595801Z",
     "shell.execute_reply": "2025-06-19T12:06:17.594950Z"
    },
    "papermill": {
     "duration": 0.016589,
     "end_time": "2025-06-19T12:06:17.597205",
     "exception": false,
     "start_time": "2025-06-19T12:06:17.580616",
     "status": "completed"
    },
    "tags": []
   },
   "outputs": [],
   "source": [
    "# making of X and y\n",
    "y = df['Exited']\n",
    "X = df.drop(\"Exited\",axis=1)"
   ]
  },
  {
   "cell_type": "code",
   "execution_count": 20,
   "id": "a873eab6",
   "metadata": {
    "execution": {
     "iopub.execute_input": "2025-06-19T12:06:17.613581Z",
     "iopub.status.busy": "2025-06-19T12:06:17.613261Z",
     "iopub.status.idle": "2025-06-19T12:06:19.183440Z",
     "shell.execute_reply": "2025-06-19T12:06:19.182206Z"
    },
    "papermill": {
     "duration": 1.580575,
     "end_time": "2025-06-19T12:06:19.185348",
     "exception": false,
     "start_time": "2025-06-19T12:06:17.604773",
     "status": "completed"
    },
    "tags": []
   },
   "outputs": [],
   "source": [
    "from sklearn.model_selection import train_test_split\n",
    "from sklearn.preprocessing import StandardScaler"
   ]
  },
  {
   "cell_type": "code",
   "execution_count": 21,
   "id": "b96dc27d",
   "metadata": {
    "execution": {
     "iopub.execute_input": "2025-06-19T12:06:19.201615Z",
     "iopub.status.busy": "2025-06-19T12:06:19.201203Z",
     "iopub.status.idle": "2025-06-19T12:06:35.824962Z",
     "shell.execute_reply": "2025-06-19T12:06:35.824147Z"
    },
    "papermill": {
     "duration": 16.633956,
     "end_time": "2025-06-19T12:06:35.826818",
     "exception": false,
     "start_time": "2025-06-19T12:06:19.192862",
     "status": "completed"
    },
    "tags": []
   },
   "outputs": [
    {
     "name": "stderr",
     "output_type": "stream",
     "text": [
      "2025-06-19 12:06:21.037382: E external/local_xla/xla/stream_executor/cuda/cuda_fft.cc:477] Unable to register cuFFT factory: Attempting to register factory for plugin cuFFT when one has already been registered\n",
      "WARNING: All log messages before absl::InitializeLog() is called are written to STDERR\n",
      "E0000 00:00:1750334781.287907      13 cuda_dnn.cc:8310] Unable to register cuDNN factory: Attempting to register factory for plugin cuDNN when one has already been registered\n",
      "E0000 00:00:1750334781.355324      13 cuda_blas.cc:1418] Unable to register cuBLAS factory: Attempting to register factory for plugin cuBLAS when one has already been registered\n"
     ]
    }
   ],
   "source": [
    "import tensorflow\n",
    "from tensorflow import keras\n",
    "from tensorflow.keras import Sequential\n",
    "from tensorflow.keras.layers import Dense"
   ]
  },
  {
   "cell_type": "code",
   "execution_count": 22,
   "id": "ee36402a",
   "metadata": {
    "execution": {
     "iopub.execute_input": "2025-06-19T12:06:35.909086Z",
     "iopub.status.busy": "2025-06-19T12:06:35.908520Z",
     "iopub.status.idle": "2025-06-19T12:06:35.917134Z",
     "shell.execute_reply": "2025-06-19T12:06:35.915828Z"
    },
    "papermill": {
     "duration": 0.018853,
     "end_time": "2025-06-19T12:06:35.918973",
     "exception": false,
     "start_time": "2025-06-19T12:06:35.900120",
     "status": "completed"
    },
    "tags": []
   },
   "outputs": [],
   "source": [
    "# train test split \n",
    "X_train,X_test,y_train,y_test = train_test_split(X,y,test_size = 0.2, random_state = 1)"
   ]
  },
  {
   "cell_type": "code",
   "execution_count": 23,
   "id": "c5b05826",
   "metadata": {
    "execution": {
     "iopub.execute_input": "2025-06-19T12:06:35.937252Z",
     "iopub.status.busy": "2025-06-19T12:06:35.936870Z",
     "iopub.status.idle": "2025-06-19T12:06:35.941343Z",
     "shell.execute_reply": "2025-06-19T12:06:35.940321Z"
    },
    "papermill": {
     "duration": 0.015637,
     "end_time": "2025-06-19T12:06:35.943159",
     "exception": false,
     "start_time": "2025-06-19T12:06:35.927522",
     "status": "completed"
    },
    "tags": []
   },
   "outputs": [],
   "source": [
    "# creting the object of the Standard\n",
    "scaler = StandardScaler()"
   ]
  },
  {
   "cell_type": "code",
   "execution_count": 24,
   "id": "855ecf09",
   "metadata": {
    "execution": {
     "iopub.execute_input": "2025-06-19T12:06:35.960419Z",
     "iopub.status.busy": "2025-06-19T12:06:35.960096Z",
     "iopub.status.idle": "2025-06-19T12:06:35.991555Z",
     "shell.execute_reply": "2025-06-19T12:06:35.990581Z"
    },
    "papermill": {
     "duration": 0.042123,
     "end_time": "2025-06-19T12:06:35.993591",
     "exception": false,
     "start_time": "2025-06-19T12:06:35.951468",
     "status": "completed"
    },
    "tags": []
   },
   "outputs": [],
   "source": [
    "# this is the process to standardize the df\n",
    "X_train_Scaled = scaler.fit_transform(X_train)\n",
    "X_test_Scaled =  scaler.fit_transform(X_test)"
   ]
  },
  {
   "cell_type": "code",
   "execution_count": 25,
   "id": "571c3750",
   "metadata": {
    "execution": {
     "iopub.execute_input": "2025-06-19T12:06:36.012291Z",
     "iopub.status.busy": "2025-06-19T12:06:36.011988Z",
     "iopub.status.idle": "2025-06-19T12:06:36.018936Z",
     "shell.execute_reply": "2025-06-19T12:06:36.017853Z"
    },
    "papermill": {
     "duration": 0.018272,
     "end_time": "2025-06-19T12:06:36.020669",
     "exception": false,
     "start_time": "2025-06-19T12:06:36.002397",
     "status": "completed"
    },
    "tags": []
   },
   "outputs": [],
   "source": [
    "# this is creating the object  the model\n",
    "model = Sequential()"
   ]
  },
  {
   "cell_type": "code",
   "execution_count": 26,
   "id": "04075059",
   "metadata": {
    "execution": {
     "iopub.execute_input": "2025-06-19T12:06:36.037258Z",
     "iopub.status.busy": "2025-06-19T12:06:36.036957Z",
     "iopub.status.idle": "2025-06-19T12:06:36.126237Z",
     "shell.execute_reply": "2025-06-19T12:06:36.125266Z"
    },
    "papermill": {
     "duration": 0.099271,
     "end_time": "2025-06-19T12:06:36.127785",
     "exception": false,
     "start_time": "2025-06-19T12:06:36.028514",
     "status": "completed"
    },
    "tags": []
   },
   "outputs": [
    {
     "name": "stderr",
     "output_type": "stream",
     "text": [
      "/usr/local/lib/python3.11/dist-packages/keras/src/layers/core/dense.py:87: UserWarning: Do not pass an `input_shape`/`input_dim` argument to a layer. When using Sequential models, prefer using an `Input(shape)` object as the first layer in the model instead.\n",
      "  super().__init__(activity_regularizer=activity_regularizer, **kwargs)\n",
      "2025-06-19 12:06:36.046766: E external/local_xla/xla/stream_executor/cuda/cuda_driver.cc:152] failed call to cuInit: INTERNAL: CUDA error: Failed call to cuInit: UNKNOWN ERROR (303)\n"
     ]
    }
   ],
   "source": [
    "# here i am adding the three layers in our model \n",
    "# there in 11 inputs or columns in the df and i am making the 11 nodes in my first layer \n",
    "# and then also i am making the 11 nodes in my second layer and \n",
    "# one node in my third layer and the activation function for first two layer in relu\n",
    "# for third layer it is sigmoid \n",
    "model.add(Dense(11,activation='relu',input_dim = 11))\n",
    "model.add(Dense(11,activation='relu'))\n",
    "model.add(Dense(1,activation='sigmoid'))"
   ]
  },
  {
   "cell_type": "code",
   "execution_count": 27,
   "id": "9a9273a6",
   "metadata": {
    "execution": {
     "iopub.execute_input": "2025-06-19T12:06:36.145432Z",
     "iopub.status.busy": "2025-06-19T12:06:36.144735Z",
     "iopub.status.idle": "2025-06-19T12:06:36.161706Z",
     "shell.execute_reply": "2025-06-19T12:06:36.160779Z"
    },
    "papermill": {
     "duration": 0.027401,
     "end_time": "2025-06-19T12:06:36.163109",
     "exception": false,
     "start_time": "2025-06-19T12:06:36.135708",
     "status": "completed"
    },
    "tags": []
   },
   "outputs": [
    {
     "data": {
      "text/html": [
       "<pre style=\"white-space:pre;overflow-x:auto;line-height:normal;font-family:Menlo,'DejaVu Sans Mono',consolas,'Courier New',monospace\"><span style=\"font-weight: bold\">Model: \"sequential\"</span>\n",
       "</pre>\n"
      ],
      "text/plain": [
       "\u001b[1mModel: \"sequential\"\u001b[0m\n"
      ]
     },
     "metadata": {},
     "output_type": "display_data"
    },
    {
     "data": {
      "text/html": [
       "<pre style=\"white-space:pre;overflow-x:auto;line-height:normal;font-family:Menlo,'DejaVu Sans Mono',consolas,'Courier New',monospace\">┏━━━━━━━━━━━━━━━━━━━━━━━━━━━━━━━━━━━━━━┳━━━━━━━━━━━━━━━━━━━━━━━━━━━━━┳━━━━━━━━━━━━━━━━━┓\n",
       "┃<span style=\"font-weight: bold\"> Layer (type)                         </span>┃<span style=\"font-weight: bold\"> Output Shape                </span>┃<span style=\"font-weight: bold\">         Param # </span>┃\n",
       "┡━━━━━━━━━━━━━━━━━━━━━━━━━━━━━━━━━━━━━━╇━━━━━━━━━━━━━━━━━━━━━━━━━━━━━╇━━━━━━━━━━━━━━━━━┩\n",
       "│ dense (<span style=\"color: #0087ff; text-decoration-color: #0087ff\">Dense</span>)                        │ (<span style=\"color: #00d7ff; text-decoration-color: #00d7ff\">None</span>, <span style=\"color: #00af00; text-decoration-color: #00af00\">11</span>)                  │             <span style=\"color: #00af00; text-decoration-color: #00af00\">132</span> │\n",
       "├──────────────────────────────────────┼─────────────────────────────┼─────────────────┤\n",
       "│ dense_1 (<span style=\"color: #0087ff; text-decoration-color: #0087ff\">Dense</span>)                      │ (<span style=\"color: #00d7ff; text-decoration-color: #00d7ff\">None</span>, <span style=\"color: #00af00; text-decoration-color: #00af00\">11</span>)                  │             <span style=\"color: #00af00; text-decoration-color: #00af00\">132</span> │\n",
       "├──────────────────────────────────────┼─────────────────────────────┼─────────────────┤\n",
       "│ dense_2 (<span style=\"color: #0087ff; text-decoration-color: #0087ff\">Dense</span>)                      │ (<span style=\"color: #00d7ff; text-decoration-color: #00d7ff\">None</span>, <span style=\"color: #00af00; text-decoration-color: #00af00\">1</span>)                   │              <span style=\"color: #00af00; text-decoration-color: #00af00\">12</span> │\n",
       "└──────────────────────────────────────┴─────────────────────────────┴─────────────────┘\n",
       "</pre>\n"
      ],
      "text/plain": [
       "┏━━━━━━━━━━━━━━━━━━━━━━━━━━━━━━━━━━━━━━┳━━━━━━━━━━━━━━━━━━━━━━━━━━━━━┳━━━━━━━━━━━━━━━━━┓\n",
       "┃\u001b[1m \u001b[0m\u001b[1mLayer (type)                        \u001b[0m\u001b[1m \u001b[0m┃\u001b[1m \u001b[0m\u001b[1mOutput Shape               \u001b[0m\u001b[1m \u001b[0m┃\u001b[1m \u001b[0m\u001b[1m        Param #\u001b[0m\u001b[1m \u001b[0m┃\n",
       "┡━━━━━━━━━━━━━━━━━━━━━━━━━━━━━━━━━━━━━━╇━━━━━━━━━━━━━━━━━━━━━━━━━━━━━╇━━━━━━━━━━━━━━━━━┩\n",
       "│ dense (\u001b[38;5;33mDense\u001b[0m)                        │ (\u001b[38;5;45mNone\u001b[0m, \u001b[38;5;34m11\u001b[0m)                  │             \u001b[38;5;34m132\u001b[0m │\n",
       "├──────────────────────────────────────┼─────────────────────────────┼─────────────────┤\n",
       "│ dense_1 (\u001b[38;5;33mDense\u001b[0m)                      │ (\u001b[38;5;45mNone\u001b[0m, \u001b[38;5;34m11\u001b[0m)                  │             \u001b[38;5;34m132\u001b[0m │\n",
       "├──────────────────────────────────────┼─────────────────────────────┼─────────────────┤\n",
       "│ dense_2 (\u001b[38;5;33mDense\u001b[0m)                      │ (\u001b[38;5;45mNone\u001b[0m, \u001b[38;5;34m1\u001b[0m)                   │              \u001b[38;5;34m12\u001b[0m │\n",
       "└──────────────────────────────────────┴─────────────────────────────┴─────────────────┘\n"
      ]
     },
     "metadata": {},
     "output_type": "display_data"
    },
    {
     "data": {
      "text/html": [
       "<pre style=\"white-space:pre;overflow-x:auto;line-height:normal;font-family:Menlo,'DejaVu Sans Mono',consolas,'Courier New',monospace\"><span style=\"font-weight: bold\"> Total params: </span><span style=\"color: #00af00; text-decoration-color: #00af00\">276</span> (1.08 KB)\n",
       "</pre>\n"
      ],
      "text/plain": [
       "\u001b[1m Total params: \u001b[0m\u001b[38;5;34m276\u001b[0m (1.08 KB)\n"
      ]
     },
     "metadata": {},
     "output_type": "display_data"
    },
    {
     "data": {
      "text/html": [
       "<pre style=\"white-space:pre;overflow-x:auto;line-height:normal;font-family:Menlo,'DejaVu Sans Mono',consolas,'Courier New',monospace\"><span style=\"font-weight: bold\"> Trainable params: </span><span style=\"color: #00af00; text-decoration-color: #00af00\">276</span> (1.08 KB)\n",
       "</pre>\n"
      ],
      "text/plain": [
       "\u001b[1m Trainable params: \u001b[0m\u001b[38;5;34m276\u001b[0m (1.08 KB)\n"
      ]
     },
     "metadata": {},
     "output_type": "display_data"
    },
    {
     "data": {
      "text/html": [
       "<pre style=\"white-space:pre;overflow-x:auto;line-height:normal;font-family:Menlo,'DejaVu Sans Mono',consolas,'Courier New',monospace\"><span style=\"font-weight: bold\"> Non-trainable params: </span><span style=\"color: #00af00; text-decoration-color: #00af00\">0</span> (0.00 B)\n",
       "</pre>\n"
      ],
      "text/plain": [
       "\u001b[1m Non-trainable params: \u001b[0m\u001b[38;5;34m0\u001b[0m (0.00 B)\n"
      ]
     },
     "metadata": {},
     "output_type": "display_data"
    }
   ],
   "source": [
    "# ths tels the summary of model\n",
    "model.summary()"
   ]
  },
  {
   "cell_type": "code",
   "execution_count": 28,
   "id": "a6a29192",
   "metadata": {
    "execution": {
     "iopub.execute_input": "2025-06-19T12:06:36.181070Z",
     "iopub.status.busy": "2025-06-19T12:06:36.180707Z",
     "iopub.status.idle": "2025-06-19T12:06:36.195500Z",
     "shell.execute_reply": "2025-06-19T12:06:36.194508Z"
    },
    "papermill": {
     "duration": 0.025639,
     "end_time": "2025-06-19T12:06:36.197182",
     "exception": false,
     "start_time": "2025-06-19T12:06:36.171543",
     "status": "completed"
    },
    "tags": []
   },
   "outputs": [],
   "source": [
    "# we are compiling the model here \n",
    "# loss function is logloss or binarycrossentropy and\n",
    "# optimizer i Adam and metrics is accuracy \n",
    "model.compile(loss='binary_crossentropy',optimizer='Adam',metrics=['accuracy'])"
   ]
  },
  {
   "cell_type": "code",
   "execution_count": 29,
   "id": "9f9dc00a",
   "metadata": {
    "execution": {
     "iopub.execute_input": "2025-06-19T12:06:36.215191Z",
     "iopub.status.busy": "2025-06-19T12:06:36.214658Z",
     "iopub.status.idle": "2025-06-19T12:07:32.031369Z",
     "shell.execute_reply": "2025-06-19T12:07:32.030408Z"
    },
    "papermill": {
     "duration": 55.827679,
     "end_time": "2025-06-19T12:07:32.033109",
     "exception": false,
     "start_time": "2025-06-19T12:06:36.205430",
     "status": "completed"
    },
    "tags": []
   },
   "outputs": [
    {
     "name": "stdout",
     "output_type": "stream",
     "text": [
      "Epoch 1/100\n",
      "\u001b[1m200/200\u001b[0m \u001b[32m━━━━━━━━━━━━━━━━━━━━\u001b[0m\u001b[37m\u001b[0m \u001b[1m3s\u001b[0m 4ms/step - accuracy: 0.6609 - loss: 0.6259 - val_accuracy: 0.7994 - val_loss: 0.4749\n",
      "Epoch 2/100\n",
      "\u001b[1m200/200\u001b[0m \u001b[32m━━━━━━━━━━━━━━━━━━━━\u001b[0m\u001b[37m\u001b[0m \u001b[1m1s\u001b[0m 3ms/step - accuracy: 0.7960 - loss: 0.4664 - val_accuracy: 0.8037 - val_loss: 0.4440\n",
      "Epoch 3/100\n",
      "\u001b[1m200/200\u001b[0m \u001b[32m━━━━━━━━━━━━━━━━━━━━\u001b[0m\u001b[37m\u001b[0m \u001b[1m1s\u001b[0m 3ms/step - accuracy: 0.8068 - loss: 0.4332 - val_accuracy: 0.8075 - val_loss: 0.4321\n",
      "Epoch 4/100\n",
      "\u001b[1m200/200\u001b[0m \u001b[32m━━━━━━━━━━━━━━━━━━━━\u001b[0m\u001b[37m\u001b[0m \u001b[1m1s\u001b[0m 3ms/step - accuracy: 0.8130 - loss: 0.4183 - val_accuracy: 0.8131 - val_loss: 0.4224\n",
      "Epoch 5/100\n",
      "\u001b[1m200/200\u001b[0m \u001b[32m━━━━━━━━━━━━━━━━━━━━\u001b[0m\u001b[37m\u001b[0m \u001b[1m1s\u001b[0m 3ms/step - accuracy: 0.8055 - loss: 0.4220 - val_accuracy: 0.8156 - val_loss: 0.4112\n",
      "Epoch 6/100\n",
      "\u001b[1m200/200\u001b[0m \u001b[32m━━━━━━━━━━━━━━━━━━━━\u001b[0m\u001b[37m\u001b[0m \u001b[1m1s\u001b[0m 3ms/step - accuracy: 0.8148 - loss: 0.4061 - val_accuracy: 0.8219 - val_loss: 0.4016\n",
      "Epoch 7/100\n",
      "\u001b[1m200/200\u001b[0m \u001b[32m━━━━━━━━━━━━━━━━━━━━\u001b[0m\u001b[37m\u001b[0m \u001b[1m1s\u001b[0m 2ms/step - accuracy: 0.8308 - loss: 0.3895 - val_accuracy: 0.8325 - val_loss: 0.3911\n",
      "Epoch 8/100\n",
      "\u001b[1m200/200\u001b[0m \u001b[32m━━━━━━━━━━━━━━━━━━━━\u001b[0m\u001b[37m\u001b[0m \u001b[1m1s\u001b[0m 3ms/step - accuracy: 0.8362 - loss: 0.3867 - val_accuracy: 0.8419 - val_loss: 0.3790\n",
      "Epoch 9/100\n",
      "\u001b[1m200/200\u001b[0m \u001b[32m━━━━━━━━━━━━━━━━━━━━\u001b[0m\u001b[37m\u001b[0m \u001b[1m1s\u001b[0m 3ms/step - accuracy: 0.8481 - loss: 0.3698 - val_accuracy: 0.8450 - val_loss: 0.3705\n",
      "Epoch 10/100\n",
      "\u001b[1m200/200\u001b[0m \u001b[32m━━━━━━━━━━━━━━━━━━━━\u001b[0m\u001b[37m\u001b[0m \u001b[1m1s\u001b[0m 3ms/step - accuracy: 0.8433 - loss: 0.3665 - val_accuracy: 0.8487 - val_loss: 0.3652\n",
      "Epoch 11/100\n",
      "\u001b[1m200/200\u001b[0m \u001b[32m━━━━━━━━━━━━━━━━━━━━\u001b[0m\u001b[37m\u001b[0m \u001b[1m1s\u001b[0m 3ms/step - accuracy: 0.8542 - loss: 0.3614 - val_accuracy: 0.8500 - val_loss: 0.3596\n",
      "Epoch 12/100\n",
      "\u001b[1m200/200\u001b[0m \u001b[32m━━━━━━━━━━━━━━━━━━━━\u001b[0m\u001b[37m\u001b[0m \u001b[1m1s\u001b[0m 2ms/step - accuracy: 0.8481 - loss: 0.3602 - val_accuracy: 0.8494 - val_loss: 0.3575\n",
      "Epoch 13/100\n",
      "\u001b[1m200/200\u001b[0m \u001b[32m━━━━━━━━━━━━━━━━━━━━\u001b[0m\u001b[37m\u001b[0m \u001b[1m1s\u001b[0m 3ms/step - accuracy: 0.8494 - loss: 0.3541 - val_accuracy: 0.8462 - val_loss: 0.3552\n",
      "Epoch 14/100\n",
      "\u001b[1m200/200\u001b[0m \u001b[32m━━━━━━━━━━━━━━━━━━━━\u001b[0m\u001b[37m\u001b[0m \u001b[1m1s\u001b[0m 3ms/step - accuracy: 0.8521 - loss: 0.3567 - val_accuracy: 0.8506 - val_loss: 0.3538\n",
      "Epoch 15/100\n",
      "\u001b[1m200/200\u001b[0m \u001b[32m━━━━━━━━━━━━━━━━━━━━\u001b[0m\u001b[37m\u001b[0m \u001b[1m1s\u001b[0m 3ms/step - accuracy: 0.8563 - loss: 0.3472 - val_accuracy: 0.8525 - val_loss: 0.3519\n",
      "Epoch 16/100\n",
      "\u001b[1m200/200\u001b[0m \u001b[32m━━━━━━━━━━━━━━━━━━━━\u001b[0m\u001b[37m\u001b[0m \u001b[1m1s\u001b[0m 3ms/step - accuracy: 0.8556 - loss: 0.3460 - val_accuracy: 0.8506 - val_loss: 0.3526\n",
      "Epoch 17/100\n",
      "\u001b[1m200/200\u001b[0m \u001b[32m━━━━━━━━━━━━━━━━━━━━\u001b[0m\u001b[37m\u001b[0m \u001b[1m1s\u001b[0m 3ms/step - accuracy: 0.8611 - loss: 0.3359 - val_accuracy: 0.8537 - val_loss: 0.3502\n",
      "Epoch 18/100\n",
      "\u001b[1m200/200\u001b[0m \u001b[32m━━━━━━━━━━━━━━━━━━━━\u001b[0m\u001b[37m\u001b[0m \u001b[1m1s\u001b[0m 3ms/step - accuracy: 0.8544 - loss: 0.3440 - val_accuracy: 0.8494 - val_loss: 0.3522\n",
      "Epoch 19/100\n",
      "\u001b[1m200/200\u001b[0m \u001b[32m━━━━━━━━━━━━━━━━━━━━\u001b[0m\u001b[37m\u001b[0m \u001b[1m1s\u001b[0m 2ms/step - accuracy: 0.8666 - loss: 0.3322 - val_accuracy: 0.8506 - val_loss: 0.3499\n",
      "Epoch 20/100\n",
      "\u001b[1m200/200\u001b[0m \u001b[32m━━━━━━━━━━━━━━━━━━━━\u001b[0m\u001b[37m\u001b[0m \u001b[1m1s\u001b[0m 3ms/step - accuracy: 0.8587 - loss: 0.3428 - val_accuracy: 0.8494 - val_loss: 0.3494\n",
      "Epoch 21/100\n",
      "\u001b[1m200/200\u001b[0m \u001b[32m━━━━━━━━━━━━━━━━━━━━\u001b[0m\u001b[37m\u001b[0m \u001b[1m1s\u001b[0m 2ms/step - accuracy: 0.8564 - loss: 0.3461 - val_accuracy: 0.8481 - val_loss: 0.3499\n",
      "Epoch 22/100\n",
      "\u001b[1m200/200\u001b[0m \u001b[32m━━━━━━━━━━━━━━━━━━━━\u001b[0m\u001b[37m\u001b[0m \u001b[1m1s\u001b[0m 2ms/step - accuracy: 0.8622 - loss: 0.3391 - val_accuracy: 0.8537 - val_loss: 0.3485\n",
      "Epoch 23/100\n",
      "\u001b[1m200/200\u001b[0m \u001b[32m━━━━━━━━━━━━━━━━━━━━\u001b[0m\u001b[37m\u001b[0m \u001b[1m1s\u001b[0m 2ms/step - accuracy: 0.8528 - loss: 0.3540 - val_accuracy: 0.8512 - val_loss: 0.3494\n",
      "Epoch 24/100\n",
      "\u001b[1m200/200\u001b[0m \u001b[32m━━━━━━━━━━━━━━━━━━━━\u001b[0m\u001b[37m\u001b[0m \u001b[1m1s\u001b[0m 3ms/step - accuracy: 0.8515 - loss: 0.3518 - val_accuracy: 0.8475 - val_loss: 0.3515\n",
      "Epoch 25/100\n",
      "\u001b[1m200/200\u001b[0m \u001b[32m━━━━━━━━━━━━━━━━━━━━\u001b[0m\u001b[37m\u001b[0m \u001b[1m1s\u001b[0m 2ms/step - accuracy: 0.8595 - loss: 0.3443 - val_accuracy: 0.8531 - val_loss: 0.3480\n",
      "Epoch 26/100\n",
      "\u001b[1m200/200\u001b[0m \u001b[32m━━━━━━━━━━━━━━━━━━━━\u001b[0m\u001b[37m\u001b[0m \u001b[1m1s\u001b[0m 2ms/step - accuracy: 0.8551 - loss: 0.3439 - val_accuracy: 0.8506 - val_loss: 0.3478\n",
      "Epoch 27/100\n",
      "\u001b[1m200/200\u001b[0m \u001b[32m━━━━━━━━━━━━━━━━━━━━\u001b[0m\u001b[37m\u001b[0m \u001b[1m1s\u001b[0m 2ms/step - accuracy: 0.8661 - loss: 0.3386 - val_accuracy: 0.8512 - val_loss: 0.3506\n",
      "Epoch 28/100\n",
      "\u001b[1m200/200\u001b[0m \u001b[32m━━━━━━━━━━━━━━━━━━━━\u001b[0m\u001b[37m\u001b[0m \u001b[1m1s\u001b[0m 3ms/step - accuracy: 0.8622 - loss: 0.3418 - val_accuracy: 0.8506 - val_loss: 0.3505\n",
      "Epoch 29/100\n",
      "\u001b[1m200/200\u001b[0m \u001b[32m━━━━━━━━━━━━━━━━━━━━\u001b[0m\u001b[37m\u001b[0m \u001b[1m1s\u001b[0m 3ms/step - accuracy: 0.8680 - loss: 0.3291 - val_accuracy: 0.8544 - val_loss: 0.3505\n",
      "Epoch 30/100\n",
      "\u001b[1m200/200\u001b[0m \u001b[32m━━━━━━━━━━━━━━━━━━━━\u001b[0m\u001b[37m\u001b[0m \u001b[1m1s\u001b[0m 3ms/step - accuracy: 0.8650 - loss: 0.3366 - val_accuracy: 0.8537 - val_loss: 0.3498\n",
      "Epoch 31/100\n",
      "\u001b[1m200/200\u001b[0m \u001b[32m━━━━━━━━━━━━━━━━━━━━\u001b[0m\u001b[37m\u001b[0m \u001b[1m1s\u001b[0m 2ms/step - accuracy: 0.8675 - loss: 0.3279 - val_accuracy: 0.8550 - val_loss: 0.3487\n",
      "Epoch 32/100\n",
      "\u001b[1m200/200\u001b[0m \u001b[32m━━━━━━━━━━━━━━━━━━━━\u001b[0m\u001b[37m\u001b[0m \u001b[1m0s\u001b[0m 2ms/step - accuracy: 0.8697 - loss: 0.3259 - val_accuracy: 0.8512 - val_loss: 0.3492\n",
      "Epoch 33/100\n",
      "\u001b[1m200/200\u001b[0m \u001b[32m━━━━━━━━━━━━━━━━━━━━\u001b[0m\u001b[37m\u001b[0m \u001b[1m0s\u001b[0m 2ms/step - accuracy: 0.8600 - loss: 0.3381 - val_accuracy: 0.8519 - val_loss: 0.3504\n",
      "Epoch 34/100\n",
      "\u001b[1m200/200\u001b[0m \u001b[32m━━━━━━━━━━━━━━━━━━━━\u001b[0m\u001b[37m\u001b[0m \u001b[1m1s\u001b[0m 2ms/step - accuracy: 0.8625 - loss: 0.3380 - val_accuracy: 0.8519 - val_loss: 0.3493\n",
      "Epoch 35/100\n",
      "\u001b[1m200/200\u001b[0m \u001b[32m━━━━━━━━━━━━━━━━━━━━\u001b[0m\u001b[37m\u001b[0m \u001b[1m1s\u001b[0m 2ms/step - accuracy: 0.8638 - loss: 0.3311 - val_accuracy: 0.8519 - val_loss: 0.3495\n",
      "Epoch 36/100\n",
      "\u001b[1m200/200\u001b[0m \u001b[32m━━━━━━━━━━━━━━━━━━━━\u001b[0m\u001b[37m\u001b[0m \u001b[1m1s\u001b[0m 3ms/step - accuracy: 0.8629 - loss: 0.3344 - val_accuracy: 0.8506 - val_loss: 0.3501\n",
      "Epoch 37/100\n",
      "\u001b[1m200/200\u001b[0m \u001b[32m━━━━━━━━━━━━━━━━━━━━\u001b[0m\u001b[37m\u001b[0m \u001b[1m1s\u001b[0m 3ms/step - accuracy: 0.8642 - loss: 0.3348 - val_accuracy: 0.8525 - val_loss: 0.3507\n",
      "Epoch 38/100\n",
      "\u001b[1m200/200\u001b[0m \u001b[32m━━━━━━━━━━━━━━━━━━━━\u001b[0m\u001b[37m\u001b[0m \u001b[1m1s\u001b[0m 3ms/step - accuracy: 0.8650 - loss: 0.3343 - val_accuracy: 0.8531 - val_loss: 0.3487\n",
      "Epoch 39/100\n",
      "\u001b[1m200/200\u001b[0m \u001b[32m━━━━━━━━━━━━━━━━━━━━\u001b[0m\u001b[37m\u001b[0m \u001b[1m1s\u001b[0m 2ms/step - accuracy: 0.8709 - loss: 0.3204 - val_accuracy: 0.8531 - val_loss: 0.3488\n",
      "Epoch 40/100\n",
      "\u001b[1m200/200\u001b[0m \u001b[32m━━━━━━━━━━━━━━━━━━━━\u001b[0m\u001b[37m\u001b[0m \u001b[1m1s\u001b[0m 3ms/step - accuracy: 0.8658 - loss: 0.3292 - val_accuracy: 0.8512 - val_loss: 0.3505\n",
      "Epoch 41/100\n",
      "\u001b[1m200/200\u001b[0m \u001b[32m━━━━━━━━━━━━━━━━━━━━\u001b[0m\u001b[37m\u001b[0m \u001b[1m1s\u001b[0m 3ms/step - accuracy: 0.8651 - loss: 0.3240 - val_accuracy: 0.8525 - val_loss: 0.3495\n",
      "Epoch 42/100\n",
      "\u001b[1m200/200\u001b[0m \u001b[32m━━━━━━━━━━━━━━━━━━━━\u001b[0m\u001b[37m\u001b[0m \u001b[1m1s\u001b[0m 3ms/step - accuracy: 0.8659 - loss: 0.3219 - val_accuracy: 0.8556 - val_loss: 0.3489\n",
      "Epoch 43/100\n",
      "\u001b[1m200/200\u001b[0m \u001b[32m━━━━━━━━━━━━━━━━━━━━\u001b[0m\u001b[37m\u001b[0m \u001b[1m1s\u001b[0m 3ms/step - accuracy: 0.8752 - loss: 0.3206 - val_accuracy: 0.8531 - val_loss: 0.3508\n",
      "Epoch 44/100\n",
      "\u001b[1m200/200\u001b[0m \u001b[32m━━━━━━━━━━━━━━━━━━━━\u001b[0m\u001b[37m\u001b[0m \u001b[1m1s\u001b[0m 3ms/step - accuracy: 0.8620 - loss: 0.3281 - val_accuracy: 0.8537 - val_loss: 0.3496\n",
      "Epoch 45/100\n",
      "\u001b[1m200/200\u001b[0m \u001b[32m━━━━━━━━━━━━━━━━━━━━\u001b[0m\u001b[37m\u001b[0m \u001b[1m1s\u001b[0m 3ms/step - accuracy: 0.8700 - loss: 0.3205 - val_accuracy: 0.8537 - val_loss: 0.3499\n",
      "Epoch 46/100\n",
      "\u001b[1m200/200\u001b[0m \u001b[32m━━━━━━━━━━━━━━━━━━━━\u001b[0m\u001b[37m\u001b[0m \u001b[1m1s\u001b[0m 2ms/step - accuracy: 0.8654 - loss: 0.3291 - val_accuracy: 0.8569 - val_loss: 0.3479\n",
      "Epoch 47/100\n",
      "\u001b[1m200/200\u001b[0m \u001b[32m━━━━━━━━━━━━━━━━━━━━\u001b[0m\u001b[37m\u001b[0m \u001b[1m1s\u001b[0m 3ms/step - accuracy: 0.8663 - loss: 0.3196 - val_accuracy: 0.8575 - val_loss: 0.3485\n",
      "Epoch 48/100\n",
      "\u001b[1m200/200\u001b[0m \u001b[32m━━━━━━━━━━━━━━━━━━━━\u001b[0m\u001b[37m\u001b[0m \u001b[1m1s\u001b[0m 3ms/step - accuracy: 0.8604 - loss: 0.3357 - val_accuracy: 0.8550 - val_loss: 0.3498\n",
      "Epoch 49/100\n",
      "\u001b[1m200/200\u001b[0m \u001b[32m━━━━━━━━━━━━━━━━━━━━\u001b[0m\u001b[37m\u001b[0m \u001b[1m1s\u001b[0m 2ms/step - accuracy: 0.8671 - loss: 0.3378 - val_accuracy: 0.8569 - val_loss: 0.3496\n",
      "Epoch 50/100\n",
      "\u001b[1m200/200\u001b[0m \u001b[32m━━━━━━━━━━━━━━━━━━━━\u001b[0m\u001b[37m\u001b[0m \u001b[1m1s\u001b[0m 3ms/step - accuracy: 0.8670 - loss: 0.3267 - val_accuracy: 0.8575 - val_loss: 0.3482\n",
      "Epoch 51/100\n",
      "\u001b[1m200/200\u001b[0m \u001b[32m━━━━━━━━━━━━━━━━━━━━\u001b[0m\u001b[37m\u001b[0m \u001b[1m1s\u001b[0m 3ms/step - accuracy: 0.8692 - loss: 0.3224 - val_accuracy: 0.8587 - val_loss: 0.3490\n",
      "Epoch 52/100\n",
      "\u001b[1m200/200\u001b[0m \u001b[32m━━━━━━━━━━━━━━━━━━━━\u001b[0m\u001b[37m\u001b[0m \u001b[1m1s\u001b[0m 3ms/step - accuracy: 0.8757 - loss: 0.3137 - val_accuracy: 0.8594 - val_loss: 0.3478\n",
      "Epoch 53/100\n",
      "\u001b[1m200/200\u001b[0m \u001b[32m━━━━━━━━━━━━━━━━━━━━\u001b[0m\u001b[37m\u001b[0m \u001b[1m1s\u001b[0m 3ms/step - accuracy: 0.8717 - loss: 0.3243 - val_accuracy: 0.8537 - val_loss: 0.3486\n",
      "Epoch 54/100\n",
      "\u001b[1m200/200\u001b[0m \u001b[32m━━━━━━━━━━━━━━━━━━━━\u001b[0m\u001b[37m\u001b[0m \u001b[1m1s\u001b[0m 3ms/step - accuracy: 0.8755 - loss: 0.3126 - val_accuracy: 0.8569 - val_loss: 0.3474\n",
      "Epoch 55/100\n",
      "\u001b[1m200/200\u001b[0m \u001b[32m━━━━━━━━━━━━━━━━━━━━\u001b[0m\u001b[37m\u001b[0m \u001b[1m1s\u001b[0m 3ms/step - accuracy: 0.8725 - loss: 0.3176 - val_accuracy: 0.8587 - val_loss: 0.3472\n",
      "Epoch 56/100\n",
      "\u001b[1m200/200\u001b[0m \u001b[32m━━━━━━━━━━━━━━━━━━━━\u001b[0m\u001b[37m\u001b[0m \u001b[1m1s\u001b[0m 3ms/step - accuracy: 0.8662 - loss: 0.3252 - val_accuracy: 0.8544 - val_loss: 0.3501\n",
      "Epoch 57/100\n",
      "\u001b[1m200/200\u001b[0m \u001b[32m━━━━━━━━━━━━━━━━━━━━\u001b[0m\u001b[37m\u001b[0m \u001b[1m1s\u001b[0m 2ms/step - accuracy: 0.8710 - loss: 0.3172 - val_accuracy: 0.8519 - val_loss: 0.3517\n",
      "Epoch 58/100\n",
      "\u001b[1m200/200\u001b[0m \u001b[32m━━━━━━━━━━━━━━━━━━━━\u001b[0m\u001b[37m\u001b[0m \u001b[1m1s\u001b[0m 3ms/step - accuracy: 0.8643 - loss: 0.3333 - val_accuracy: 0.8569 - val_loss: 0.3485\n",
      "Epoch 59/100\n",
      "\u001b[1m200/200\u001b[0m \u001b[32m━━━━━━━━━━━━━━━━━━━━\u001b[0m\u001b[37m\u001b[0m \u001b[1m1s\u001b[0m 2ms/step - accuracy: 0.8623 - loss: 0.3323 - val_accuracy: 0.8550 - val_loss: 0.3501\n",
      "Epoch 60/100\n",
      "\u001b[1m200/200\u001b[0m \u001b[32m━━━━━━━━━━━━━━━━━━━━\u001b[0m\u001b[37m\u001b[0m \u001b[1m1s\u001b[0m 3ms/step - accuracy: 0.8676 - loss: 0.3274 - val_accuracy: 0.8569 - val_loss: 0.3487\n",
      "Epoch 61/100\n",
      "\u001b[1m200/200\u001b[0m \u001b[32m━━━━━━━━━━━━━━━━━━━━\u001b[0m\u001b[37m\u001b[0m \u001b[1m1s\u001b[0m 3ms/step - accuracy: 0.8715 - loss: 0.3248 - val_accuracy: 0.8600 - val_loss: 0.3487\n",
      "Epoch 62/100\n",
      "\u001b[1m200/200\u001b[0m \u001b[32m━━━━━━━━━━━━━━━━━━━━\u001b[0m\u001b[37m\u001b[0m \u001b[1m1s\u001b[0m 3ms/step - accuracy: 0.8698 - loss: 0.3257 - val_accuracy: 0.8587 - val_loss: 0.3494\n",
      "Epoch 63/100\n",
      "\u001b[1m200/200\u001b[0m \u001b[32m━━━━━━━━━━━━━━━━━━━━\u001b[0m\u001b[37m\u001b[0m \u001b[1m1s\u001b[0m 3ms/step - accuracy: 0.8651 - loss: 0.3243 - val_accuracy: 0.8569 - val_loss: 0.3486\n",
      "Epoch 64/100\n",
      "\u001b[1m200/200\u001b[0m \u001b[32m━━━━━━━━━━━━━━━━━━━━\u001b[0m\u001b[37m\u001b[0m \u001b[1m1s\u001b[0m 3ms/step - accuracy: 0.8765 - loss: 0.3184 - val_accuracy: 0.8575 - val_loss: 0.3494\n",
      "Epoch 65/100\n",
      "\u001b[1m200/200\u001b[0m \u001b[32m━━━━━━━━━━━━━━━━━━━━\u001b[0m\u001b[37m\u001b[0m \u001b[1m0s\u001b[0m 2ms/step - accuracy: 0.8707 - loss: 0.3274 - val_accuracy: 0.8587 - val_loss: 0.3484\n",
      "Epoch 66/100\n",
      "\u001b[1m200/200\u001b[0m \u001b[32m━━━━━━━━━━━━━━━━━━━━\u001b[0m\u001b[37m\u001b[0m \u001b[1m1s\u001b[0m 3ms/step - accuracy: 0.8663 - loss: 0.3275 - val_accuracy: 0.8544 - val_loss: 0.3495\n",
      "Epoch 67/100\n",
      "\u001b[1m200/200\u001b[0m \u001b[32m━━━━━━━━━━━━━━━━━━━━\u001b[0m\u001b[37m\u001b[0m \u001b[1m1s\u001b[0m 2ms/step - accuracy: 0.8613 - loss: 0.3292 - val_accuracy: 0.8569 - val_loss: 0.3507\n",
      "Epoch 68/100\n",
      "\u001b[1m200/200\u001b[0m \u001b[32m━━━━━━━━━━━━━━━━━━━━\u001b[0m\u001b[37m\u001b[0m \u001b[1m1s\u001b[0m 3ms/step - accuracy: 0.8670 - loss: 0.3286 - val_accuracy: 0.8600 - val_loss: 0.3484\n",
      "Epoch 69/100\n",
      "\u001b[1m200/200\u001b[0m \u001b[32m━━━━━━━━━━━━━━━━━━━━\u001b[0m\u001b[37m\u001b[0m \u001b[1m1s\u001b[0m 3ms/step - accuracy: 0.8657 - loss: 0.3238 - val_accuracy: 0.8569 - val_loss: 0.3499\n",
      "Epoch 70/100\n",
      "\u001b[1m200/200\u001b[0m \u001b[32m━━━━━━━━━━━━━━━━━━━━\u001b[0m\u001b[37m\u001b[0m \u001b[1m1s\u001b[0m 3ms/step - accuracy: 0.8668 - loss: 0.3236 - val_accuracy: 0.8569 - val_loss: 0.3498\n",
      "Epoch 71/100\n",
      "\u001b[1m200/200\u001b[0m \u001b[32m━━━━━━━━━━━━━━━━━━━━\u001b[0m\u001b[37m\u001b[0m \u001b[1m1s\u001b[0m 3ms/step - accuracy: 0.8675 - loss: 0.3186 - val_accuracy: 0.8550 - val_loss: 0.3514\n",
      "Epoch 72/100\n",
      "\u001b[1m200/200\u001b[0m \u001b[32m━━━━━━━━━━━━━━━━━━━━\u001b[0m\u001b[37m\u001b[0m \u001b[1m1s\u001b[0m 2ms/step - accuracy: 0.8693 - loss: 0.3145 - val_accuracy: 0.8519 - val_loss: 0.3491\n",
      "Epoch 73/100\n",
      "\u001b[1m200/200\u001b[0m \u001b[32m━━━━━━━━━━━━━━━━━━━━\u001b[0m\u001b[37m\u001b[0m \u001b[1m1s\u001b[0m 3ms/step - accuracy: 0.8764 - loss: 0.3100 - val_accuracy: 0.8556 - val_loss: 0.3484\n",
      "Epoch 74/100\n",
      "\u001b[1m200/200\u001b[0m \u001b[32m━━━━━━━━━━━━━━━━━━━━\u001b[0m\u001b[37m\u001b[0m \u001b[1m1s\u001b[0m 3ms/step - accuracy: 0.8673 - loss: 0.3286 - val_accuracy: 0.8569 - val_loss: 0.3482\n",
      "Epoch 75/100\n",
      "\u001b[1m200/200\u001b[0m \u001b[32m━━━━━━━━━━━━━━━━━━━━\u001b[0m\u001b[37m\u001b[0m \u001b[1m1s\u001b[0m 2ms/step - accuracy: 0.8655 - loss: 0.3218 - val_accuracy: 0.8594 - val_loss: 0.3489\n",
      "Epoch 76/100\n",
      "\u001b[1m200/200\u001b[0m \u001b[32m━━━━━━━━━━━━━━━━━━━━\u001b[0m\u001b[37m\u001b[0m \u001b[1m1s\u001b[0m 2ms/step - accuracy: 0.8733 - loss: 0.3185 - val_accuracy: 0.8556 - val_loss: 0.3526\n",
      "Epoch 77/100\n",
      "\u001b[1m200/200\u001b[0m \u001b[32m━━━━━━━━━━━━━━━━━━━━\u001b[0m\u001b[37m\u001b[0m \u001b[1m1s\u001b[0m 3ms/step - accuracy: 0.8706 - loss: 0.3209 - val_accuracy: 0.8581 - val_loss: 0.3496\n",
      "Epoch 78/100\n",
      "\u001b[1m200/200\u001b[0m \u001b[32m━━━━━━━━━━━━━━━━━━━━\u001b[0m\u001b[37m\u001b[0m \u001b[1m1s\u001b[0m 3ms/step - accuracy: 0.8707 - loss: 0.3255 - val_accuracy: 0.8575 - val_loss: 0.3489\n",
      "Epoch 79/100\n",
      "\u001b[1m200/200\u001b[0m \u001b[32m━━━━━━━━━━━━━━━━━━━━\u001b[0m\u001b[37m\u001b[0m \u001b[1m1s\u001b[0m 3ms/step - accuracy: 0.8714 - loss: 0.3181 - val_accuracy: 0.8569 - val_loss: 0.3509\n",
      "Epoch 80/100\n",
      "\u001b[1m200/200\u001b[0m \u001b[32m━━━━━━━━━━━━━━━━━━━━\u001b[0m\u001b[37m\u001b[0m \u001b[1m1s\u001b[0m 3ms/step - accuracy: 0.8696 - loss: 0.3212 - val_accuracy: 0.8575 - val_loss: 0.3502\n",
      "Epoch 81/100\n",
      "\u001b[1m200/200\u001b[0m \u001b[32m━━━━━━━━━━━━━━━━━━━━\u001b[0m\u001b[37m\u001b[0m \u001b[1m1s\u001b[0m 3ms/step - accuracy: 0.8738 - loss: 0.3188 - val_accuracy: 0.8581 - val_loss: 0.3492\n",
      "Epoch 82/100\n",
      "\u001b[1m200/200\u001b[0m \u001b[32m━━━━━━━━━━━━━━━━━━━━\u001b[0m\u001b[37m\u001b[0m \u001b[1m1s\u001b[0m 3ms/step - accuracy: 0.8698 - loss: 0.3276 - val_accuracy: 0.8600 - val_loss: 0.3492\n",
      "Epoch 83/100\n",
      "\u001b[1m200/200\u001b[0m \u001b[32m━━━━━━━━━━━━━━━━━━━━\u001b[0m\u001b[37m\u001b[0m \u001b[1m1s\u001b[0m 3ms/step - accuracy: 0.8736 - loss: 0.3109 - val_accuracy: 0.8525 - val_loss: 0.3505\n",
      "Epoch 84/100\n",
      "\u001b[1m200/200\u001b[0m \u001b[32m━━━━━━━━━━━━━━━━━━━━\u001b[0m\u001b[37m\u001b[0m \u001b[1m1s\u001b[0m 3ms/step - accuracy: 0.8732 - loss: 0.3106 - val_accuracy: 0.8537 - val_loss: 0.3501\n",
      "Epoch 85/100\n",
      "\u001b[1m200/200\u001b[0m \u001b[32m━━━━━━━━━━━━━━━━━━━━\u001b[0m\u001b[37m\u001b[0m \u001b[1m1s\u001b[0m 3ms/step - accuracy: 0.8721 - loss: 0.3209 - val_accuracy: 0.8581 - val_loss: 0.3494\n",
      "Epoch 86/100\n",
      "\u001b[1m200/200\u001b[0m \u001b[32m━━━━━━━━━━━━━━━━━━━━\u001b[0m\u001b[37m\u001b[0m \u001b[1m1s\u001b[0m 3ms/step - accuracy: 0.8712 - loss: 0.3182 - val_accuracy: 0.8525 - val_loss: 0.3519\n",
      "Epoch 87/100\n",
      "\u001b[1m200/200\u001b[0m \u001b[32m━━━━━━━━━━━━━━━━━━━━\u001b[0m\u001b[37m\u001b[0m \u001b[1m1s\u001b[0m 2ms/step - accuracy: 0.8683 - loss: 0.3254 - val_accuracy: 0.8562 - val_loss: 0.3516\n",
      "Epoch 88/100\n",
      "\u001b[1m200/200\u001b[0m \u001b[32m━━━━━━━━━━━━━━━━━━━━\u001b[0m\u001b[37m\u001b[0m \u001b[1m1s\u001b[0m 2ms/step - accuracy: 0.8757 - loss: 0.3116 - val_accuracy: 0.8562 - val_loss: 0.3494\n",
      "Epoch 89/100\n",
      "\u001b[1m200/200\u001b[0m \u001b[32m━━━━━━━━━━━━━━━━━━━━\u001b[0m\u001b[37m\u001b[0m \u001b[1m1s\u001b[0m 2ms/step - accuracy: 0.8730 - loss: 0.3189 - val_accuracy: 0.8562 - val_loss: 0.3500\n",
      "Epoch 90/100\n",
      "\u001b[1m200/200\u001b[0m \u001b[32m━━━━━━━━━━━━━━━━━━━━\u001b[0m\u001b[37m\u001b[0m \u001b[1m1s\u001b[0m 2ms/step - accuracy: 0.8615 - loss: 0.3317 - val_accuracy: 0.8550 - val_loss: 0.3488\n",
      "Epoch 91/100\n",
      "\u001b[1m200/200\u001b[0m \u001b[32m━━━━━━━━━━━━━━━━━━━━\u001b[0m\u001b[37m\u001b[0m \u001b[1m1s\u001b[0m 2ms/step - accuracy: 0.8716 - loss: 0.3181 - val_accuracy: 0.8569 - val_loss: 0.3488\n",
      "Epoch 92/100\n",
      "\u001b[1m200/200\u001b[0m \u001b[32m━━━━━━━━━━━━━━━━━━━━\u001b[0m\u001b[37m\u001b[0m \u001b[1m1s\u001b[0m 3ms/step - accuracy: 0.8700 - loss: 0.3192 - val_accuracy: 0.8569 - val_loss: 0.3492\n",
      "Epoch 93/100\n",
      "\u001b[1m200/200\u001b[0m \u001b[32m━━━━━━━━━━━━━━━━━━━━\u001b[0m\u001b[37m\u001b[0m \u001b[1m1s\u001b[0m 3ms/step - accuracy: 0.8710 - loss: 0.3161 - val_accuracy: 0.8575 - val_loss: 0.3491\n",
      "Epoch 94/100\n",
      "\u001b[1m200/200\u001b[0m \u001b[32m━━━━━━━━━━━━━━━━━━━━\u001b[0m\u001b[37m\u001b[0m \u001b[1m1s\u001b[0m 3ms/step - accuracy: 0.8682 - loss: 0.3187 - val_accuracy: 0.8544 - val_loss: 0.3488\n",
      "Epoch 95/100\n",
      "\u001b[1m200/200\u001b[0m \u001b[32m━━━━━━━━━━━━━━━━━━━━\u001b[0m\u001b[37m\u001b[0m \u001b[1m1s\u001b[0m 3ms/step - accuracy: 0.8724 - loss: 0.3153 - val_accuracy: 0.8575 - val_loss: 0.3484\n",
      "Epoch 96/100\n",
      "\u001b[1m200/200\u001b[0m \u001b[32m━━━━━━━━━━━━━━━━━━━━\u001b[0m\u001b[37m\u001b[0m \u001b[1m1s\u001b[0m 3ms/step - accuracy: 0.8680 - loss: 0.3345 - val_accuracy: 0.8575 - val_loss: 0.3497\n",
      "Epoch 97/100\n",
      "\u001b[1m200/200\u001b[0m \u001b[32m━━━━━━━━━━━━━━━━━━━━\u001b[0m\u001b[37m\u001b[0m \u001b[1m1s\u001b[0m 2ms/step - accuracy: 0.8656 - loss: 0.3269 - val_accuracy: 0.8569 - val_loss: 0.3519\n",
      "Epoch 98/100\n",
      "\u001b[1m200/200\u001b[0m \u001b[32m━━━━━━━━━━━━━━━━━━━━\u001b[0m\u001b[37m\u001b[0m \u001b[1m0s\u001b[0m 2ms/step - accuracy: 0.8713 - loss: 0.3175 - val_accuracy: 0.8550 - val_loss: 0.3495\n",
      "Epoch 99/100\n",
      "\u001b[1m200/200\u001b[0m \u001b[32m━━━━━━━━━━━━━━━━━━━━\u001b[0m\u001b[37m\u001b[0m \u001b[1m1s\u001b[0m 2ms/step - accuracy: 0.8684 - loss: 0.3183 - val_accuracy: 0.8581 - val_loss: 0.3512\n",
      "Epoch 100/100\n",
      "\u001b[1m200/200\u001b[0m \u001b[32m━━━━━━━━━━━━━━━━━━━━\u001b[0m\u001b[37m\u001b[0m \u001b[1m1s\u001b[0m 2ms/step - accuracy: 0.8676 - loss: 0.3203 - val_accuracy: 0.8562 - val_loss: 0.3503\n"
     ]
    }
   ],
   "source": [
    "# we are doing iterstions or epochs is 100\n",
    "# validate with 20% data \n",
    "history = model.fit(X_train_Scaled,y_train,epochs=100,validation_split=0.2)"
   ]
  },
  {
   "cell_type": "code",
   "execution_count": 30,
   "id": "0272ce7e",
   "metadata": {
    "execution": {
     "iopub.execute_input": "2025-06-19T12:07:32.146867Z",
     "iopub.status.busy": "2025-06-19T12:07:32.145897Z",
     "iopub.status.idle": "2025-06-19T12:07:32.157462Z",
     "shell.execute_reply": "2025-06-19T12:07:32.156537Z"
    },
    "papermill": {
     "duration": 0.069432,
     "end_time": "2025-06-19T12:07:32.158791",
     "exception": false,
     "start_time": "2025-06-19T12:07:32.089359",
     "status": "completed"
    },
    "tags": []
   },
   "outputs": [
    {
     "data": {
      "text/plain": [
       "[array([[ 6.93789646e-02, -7.30950117e-01,  9.65682343e-02,\n",
       "         -5.29856980e-02, -1.12901486e-01,  2.48368263e-01,\n",
       "         -2.59789705e-01, -1.44718096e-01,  4.91721258e-02,\n",
       "          3.35398376e-01, -1.36075780e-01],\n",
       "        [-8.26881289e-01, -1.35437608e-01, -3.22299540e-01,\n",
       "         -6.02610037e-02, -9.86152709e-01, -1.09516801e-02,\n",
       "         -2.48837799e-01, -1.07620887e-01, -8.81727099e-01,\n",
       "          8.60886881e-04, -4.04615879e-01],\n",
       "        [-2.83181965e-01,  2.47518107e-01,  5.08771420e-01,\n",
       "          4.48143110e-03,  5.25684133e-02,  1.08156867e-01,\n",
       "         -3.42963368e-01,  5.97381964e-02, -2.56674904e-02,\n",
       "         -8.41682315e-01, -2.64526922e-02],\n",
       "        [ 1.71501562e-01, -2.35236928e-01, -6.46932185e-01,\n",
       "          2.44984537e-01, -4.14659321e-01,  1.24737807e-01,\n",
       "          8.47107172e-01, -6.10927224e-01,  4.05731171e-01,\n",
       "         -7.29101181e-01, -7.75605261e-01],\n",
       "        [ 1.55266792e-01, -1.84435457e-01, -2.18190789e-01,\n",
       "          1.05250704e+00, -2.41522007e-02, -6.90415025e-01,\n",
       "         -8.93193007e-01, -5.02066202e-02, -1.95916280e-01,\n",
       "          1.24984317e-01, -1.32536030e+00],\n",
       "        [-4.10181969e-01,  1.04800031e-01,  3.83843452e-01,\n",
       "         -1.99196935e-02, -1.02332696e-01, -1.93369556e-02,\n",
       "         -1.47499740e-01, -1.90530680e-02,  2.41508305e-01,\n",
       "          4.62827474e-01,  8.56463537e-02],\n",
       "        [-6.34789467e-01,  1.36113197e-01,  3.15207452e-01,\n",
       "         -4.19345230e-01, -3.86524707e-01, -7.74834931e-01,\n",
       "         -4.33065742e-01,  7.17249215e-02, -2.60921359e-01,\n",
       "          1.31103694e-01, -6.39198627e-03],\n",
       "        [ 4.08610627e-02, -4.22923237e-01, -9.99604240e-02,\n",
       "         -2.96461042e-02, -1.90948308e-01,  1.89586484e-03,\n",
       "         -2.07422003e-02,  1.59666002e-01,  5.28977476e-02,\n",
       "          2.21152738e-01, -1.01687863e-01],\n",
       "        [ 1.27102599e-01,  1.30796418e-01, -3.74169439e-01,\n",
       "         -2.27700062e-02,  1.48339674e-01, -1.20345140e-02,\n",
       "          4.61123407e-01, -3.84363830e-01,  8.53289366e-02,\n",
       "          3.11191469e-01,  2.00078547e-01],\n",
       "        [-1.98589534e-01, -8.85496616e-01,  1.59130424e-01,\n",
       "          4.10940759e-02,  1.08285151e-01,  5.38673326e-02,\n",
       "         -1.41608909e-01,  9.97707248e-02, -1.71730384e-01,\n",
       "         -1.24129176e-01, -1.13804467e-01],\n",
       "        [-4.43352968e-01,  3.00743163e-01, -1.21333614e-01,\n",
       "         -1.66211858e-01,  1.47541136e-01, -1.67914197e-01,\n",
       "          2.62446225e-01,  9.75705564e-01,  1.69938803e-01,\n",
       "          2.20639661e-01, -1.15782939e-01]], dtype=float32),\n",
       " array([ 0.39370993,  0.09141155,  0.32608598, -0.06017826,  0.7997702 ,\n",
       "         0.17974474, -0.13623628,  0.213946  ,  0.69417274,  0.42183998,\n",
       "         0.0482205 ], dtype=float32)]"
      ]
     },
     "execution_count": 30,
     "metadata": {},
     "output_type": "execute_result"
    }
   ],
   "source": [
    "# this tells us the weights and bias \n",
    "# here 121 weights and 11 bias \n",
    "model.layers[0].get_weights()"
   ]
  },
  {
   "cell_type": "code",
   "execution_count": 31,
   "id": "6922c1c8",
   "metadata": {
    "execution": {
     "iopub.execute_input": "2025-06-19T12:07:32.271657Z",
     "iopub.status.busy": "2025-06-19T12:07:32.271343Z",
     "iopub.status.idle": "2025-06-19T12:07:32.279711Z",
     "shell.execute_reply": "2025-06-19T12:07:32.278874Z"
    },
    "papermill": {
     "duration": 0.066215,
     "end_time": "2025-06-19T12:07:32.281088",
     "exception": false,
     "start_time": "2025-06-19T12:07:32.214873",
     "status": "completed"
    },
    "tags": []
   },
   "outputs": [
    {
     "data": {
      "text/plain": [
       "[array([[ 0.18671344,  0.4757892 , -0.27150345, -0.8389994 ,  0.28459197,\n",
       "          0.36251634,  0.20908353,  0.38204718,  0.19519453, -0.09205997,\n",
       "         -0.29146993],\n",
       "        [ 0.06857036, -0.22779381,  0.11184365,  0.33241093, -0.24377199,\n",
       "          0.21039444,  0.03251785,  0.61504567, -0.31119284,  0.1010765 ,\n",
       "          0.11941552],\n",
       "        [ 0.292501  , -0.2075475 , -0.5743769 , -0.23710074,  0.00569451,\n",
       "         -0.03804106, -0.28295866,  0.1218863 , -0.24466057, -0.9135816 ,\n",
       "         -0.42941204],\n",
       "        [-0.3289135 ,  0.39739668, -0.2473864 ,  0.7392123 , -0.24419512,\n",
       "         -0.24069047,  0.64505696, -0.293679  , -0.33684322, -0.97830147,\n",
       "          0.574285  ],\n",
       "        [-0.3096043 ,  0.3187866 , -0.2350651 , -0.8078161 ,  0.16917318,\n",
       "          0.38763067, -0.01410486,  0.13447677, -0.8312727 , -0.57922226,\n",
       "         -0.03380831],\n",
       "        [-0.14065842,  0.23474729, -0.21246384,  0.6445973 ,  0.01536271,\n",
       "          0.31077263, -0.83772457, -0.21378753,  0.18588674,  0.5378174 ,\n",
       "          0.5844687 ],\n",
       "        [ 0.11580354,  0.11226527, -0.1960654 ,  0.4605546 ,  0.14305097,\n",
       "         -0.68324834, -0.25734043, -0.2320635 ,  0.12571996,  0.59327877,\n",
       "         -1.0858669 ],\n",
       "        [ 0.3942037 ,  0.15357992, -0.28636235,  0.21007107,  0.50472844,\n",
       "          0.38910478, -0.42838636, -0.10840302,  0.28661647, -0.9032883 ,\n",
       "          0.32902628],\n",
       "        [ 0.4007693 ,  0.30444226, -0.04487584, -0.7054758 ,  0.28038105,\n",
       "         -0.24879657, -0.17012587,  0.02328836, -0.84698945,  0.14745478,\n",
       "         -0.31999943],\n",
       "        [-0.2107482 ,  0.18761863, -0.30695182,  0.16993645,  0.26300484,\n",
       "          0.35183245,  0.3892208 ,  0.49720642, -0.23042864,  0.21323107,\n",
       "          0.04449962],\n",
       "        [-1.033677  ,  0.10029247, -0.09235302,  0.20922701, -0.67629504,\n",
       "          0.30224252, -0.04811573, -0.34824467,  0.6223685 ,  0.04155578,\n",
       "          0.78876543]], dtype=float32),\n",
       " array([ 7.6775950e-01, -5.2946854e-01, -1.8836229e-01,  1.4127148e-04,\n",
       "         6.1749232e-01,  3.8462973e-01, -3.2282453e-02,  8.3388191e-01,\n",
       "        -2.7176498e-02, -1.3005556e-01, -2.5430173e-01], dtype=float32)]"
      ]
     },
     "execution_count": 31,
     "metadata": {},
     "output_type": "execute_result"
    }
   ],
   "source": [
    "# this tells us the weights and bias \n",
    "# here 121 weights and 11 bias \n",
    "model.layers[1].get_weights()"
   ]
  },
  {
   "cell_type": "code",
   "execution_count": 32,
   "id": "bd634245",
   "metadata": {
    "execution": {
     "iopub.execute_input": "2025-06-19T12:07:32.394187Z",
     "iopub.status.busy": "2025-06-19T12:07:32.393819Z",
     "iopub.status.idle": "2025-06-19T12:07:32.402650Z",
     "shell.execute_reply": "2025-06-19T12:07:32.401730Z"
    },
    "papermill": {
     "duration": 0.067243,
     "end_time": "2025-06-19T12:07:32.404272",
     "exception": false,
     "start_time": "2025-06-19T12:07:32.337029",
     "status": "completed"
    },
    "tags": []
   },
   "outputs": [
    {
     "data": {
      "text/plain": [
       "[array([[-0.6285423 ],\n",
       "        [ 0.41178292],\n",
       "        [ 0.6141333 ],\n",
       "        [ 1.2702742 ],\n",
       "        [-0.53138113],\n",
       "        [-0.39420772],\n",
       "        [ 1.117847  ],\n",
       "        [-0.8713062 ],\n",
       "        [ 1.9241908 ],\n",
       "        [ 0.50463223],\n",
       "        [ 1.228093  ]], dtype=float32),\n",
       " array([-0.5338493], dtype=float32)]"
      ]
     },
     "execution_count": 32,
     "metadata": {},
     "output_type": "execute_result"
    }
   ],
   "source": [
    "# here are 11 weights 1 bias \n",
    "model.layers[2].get_weights()"
   ]
  },
  {
   "cell_type": "code",
   "execution_count": 33,
   "id": "6359f595",
   "metadata": {
    "execution": {
     "iopub.execute_input": "2025-06-19T12:07:32.523797Z",
     "iopub.status.busy": "2025-06-19T12:07:32.523373Z",
     "iopub.status.idle": "2025-06-19T12:07:32.817155Z",
     "shell.execute_reply": "2025-06-19T12:07:32.816078Z"
    },
    "papermill": {
     "duration": 0.358005,
     "end_time": "2025-06-19T12:07:32.818798",
     "exception": false,
     "start_time": "2025-06-19T12:07:32.460793",
     "status": "completed"
    },
    "tags": []
   },
   "outputs": [
    {
     "name": "stdout",
     "output_type": "stream",
     "text": [
      "\u001b[1m63/63\u001b[0m \u001b[32m━━━━━━━━━━━━━━━━━━━━\u001b[0m\u001b[37m\u001b[0m \u001b[1m0s\u001b[0m 2ms/step\n"
     ]
    }
   ],
   "source": [
    "y_log = model.predict(X_test_Scaled)  # sigmoid ka answer 0 aur 1 ke beach me hota hai "
   ]
  },
  {
   "cell_type": "code",
   "execution_count": 34,
   "id": "2dbb4623",
   "metadata": {
    "execution": {
     "iopub.execute_input": "2025-06-19T12:07:32.932791Z",
     "iopub.status.busy": "2025-06-19T12:07:32.932044Z",
     "iopub.status.idle": "2025-06-19T12:07:32.937052Z",
     "shell.execute_reply": "2025-06-19T12:07:32.935870Z"
    },
    "papermill": {
     "duration": 0.064289,
     "end_time": "2025-06-19T12:07:32.938572",
     "exception": false,
     "start_time": "2025-06-19T12:07:32.874283",
     "status": "completed"
    },
    "tags": []
   },
   "outputs": [],
   "source": [
    "# 0.5 se zada hai to yes hoga nahi to no hoga \n",
    "y_pred = np.where(y_log>0.5,1,0)"
   ]
  },
  {
   "cell_type": "code",
   "execution_count": 35,
   "id": "7b66e4a5",
   "metadata": {
    "execution": {
     "iopub.execute_input": "2025-06-19T12:07:33.049870Z",
     "iopub.status.busy": "2025-06-19T12:07:33.049596Z",
     "iopub.status.idle": "2025-06-19T12:07:33.053800Z",
     "shell.execute_reply": "2025-06-19T12:07:33.052904Z"
    },
    "papermill": {
     "duration": 0.061346,
     "end_time": "2025-06-19T12:07:33.055295",
     "exception": false,
     "start_time": "2025-06-19T12:07:32.993949",
     "status": "completed"
    },
    "tags": []
   },
   "outputs": [],
   "source": [
    "from sklearn.metrics import accuracy_score"
   ]
  },
  {
   "cell_type": "code",
   "execution_count": 36,
   "id": "1602f764",
   "metadata": {
    "execution": {
     "iopub.execute_input": "2025-06-19T12:07:33.168653Z",
     "iopub.status.busy": "2025-06-19T12:07:33.167772Z",
     "iopub.status.idle": "2025-06-19T12:07:33.175771Z",
     "shell.execute_reply": "2025-06-19T12:07:33.174869Z"
    },
    "papermill": {
     "duration": 0.06675,
     "end_time": "2025-06-19T12:07:33.177650",
     "exception": false,
     "start_time": "2025-06-19T12:07:33.110900",
     "status": "completed"
    },
    "tags": []
   },
   "outputs": [
    {
     "data": {
      "text/plain": [
       "0.8615"
      ]
     },
     "execution_count": 36,
     "metadata": {},
     "output_type": "execute_result"
    }
   ],
   "source": [
    "accuracy_score(y_test,y_pred)      "
   ]
  },
  {
   "cell_type": "code",
   "execution_count": 37,
   "id": "da472b1b",
   "metadata": {
    "execution": {
     "iopub.execute_input": "2025-06-19T12:07:33.292466Z",
     "iopub.status.busy": "2025-06-19T12:07:33.292133Z",
     "iopub.status.idle": "2025-06-19T12:07:33.296435Z",
     "shell.execute_reply": "2025-06-19T12:07:33.295650Z"
    },
    "papermill": {
     "duration": 0.063174,
     "end_time": "2025-06-19T12:07:33.297827",
     "exception": false,
     "start_time": "2025-06-19T12:07:33.234653",
     "status": "completed"
    },
    "tags": []
   },
   "outputs": [],
   "source": [
    "import matplotlib.pyplot as plt "
   ]
  },
  {
   "cell_type": "code",
   "execution_count": 38,
   "id": "9bc47032",
   "metadata": {
    "execution": {
     "iopub.execute_input": "2025-06-19T12:07:33.410303Z",
     "iopub.status.busy": "2025-06-19T12:07:33.409959Z",
     "iopub.status.idle": "2025-06-19T12:07:33.418351Z",
     "shell.execute_reply": "2025-06-19T12:07:33.417242Z"
    },
    "papermill": {
     "duration": 0.066161,
     "end_time": "2025-06-19T12:07:33.419854",
     "exception": false,
     "start_time": "2025-06-19T12:07:33.353693",
     "status": "completed"
    },
    "tags": []
   },
   "outputs": [
    {
     "data": {
      "text/plain": [
       "{'accuracy': [0.7504687309265137,\n",
       "  0.8010937571525574,\n",
       "  0.8043749928474426,\n",
       "  0.8092187643051147,\n",
       "  0.8157812356948853,\n",
       "  0.8217187523841858,\n",
       "  0.8332812786102295,\n",
       "  0.8396875262260437,\n",
       "  0.8453124761581421,\n",
       "  0.8475000262260437,\n",
       "  0.8504687547683716,\n",
       "  0.850781261920929,\n",
       "  0.8510937690734863,\n",
       "  0.8534374833106995,\n",
       "  0.85546875,\n",
       "  0.8551562428474426,\n",
       "  0.8582812547683716,\n",
       "  0.8553125262260437,\n",
       "  0.8596875071525574,\n",
       "  0.8581249713897705,\n",
       "  0.8584374785423279,\n",
       "  0.8606250286102295,\n",
       "  0.8604687452316284,\n",
       "  0.8607812523841858,\n",
       "  0.8603125214576721,\n",
       "  0.860156238079071,\n",
       "  0.8643749952316284,\n",
       "  0.8645312786102295,\n",
       "  0.8650000095367432,\n",
       "  0.8645312786102295,\n",
       "  0.8612499833106995,\n",
       "  0.8621875047683716,\n",
       "  0.8656250238418579,\n",
       "  0.8651562333106995,\n",
       "  0.864062488079071,\n",
       "  0.864062488079071,\n",
       "  0.8653125166893005,\n",
       "  0.8667187690734863,\n",
       "  0.8660937547683716,\n",
       "  0.8670312762260437,\n",
       "  0.8657812476158142,\n",
       "  0.8635937571525574,\n",
       "  0.8670312762260437,\n",
       "  0.8662499785423279,\n",
       "  0.8657812476158142,\n",
       "  0.8662499785423279,\n",
       "  0.8670312762260437,\n",
       "  0.866406261920929,\n",
       "  0.8668749928474426,\n",
       "  0.8676562309265137,\n",
       "  0.866406261920929,\n",
       "  0.8676562309265137,\n",
       "  0.8668749928474426,\n",
       "  0.8651562333106995,\n",
       "  0.8673437237739563,\n",
       "  0.8671875,\n",
       "  0.8685937523841858,\n",
       "  0.8673437237739563,\n",
       "  0.8665624856948853,\n",
       "  0.8671875,\n",
       "  0.867968738079071,\n",
       "  0.867968738079071,\n",
       "  0.8667187690734863,\n",
       "  0.8692187666893005,\n",
       "  0.8676562309265137,\n",
       "  0.8685937523841858,\n",
       "  0.8684375286102295,\n",
       "  0.8684375286102295,\n",
       "  0.8670312762260437,\n",
       "  0.8681250214576721,\n",
       "  0.8670312762260437,\n",
       "  0.8692187666893005,\n",
       "  0.867968738079071,\n",
       "  0.8695312738418579,\n",
       "  0.8660937547683716,\n",
       "  0.8690624833106995,\n",
       "  0.8671875,\n",
       "  0.8687499761581421,\n",
       "  0.8670312762260437,\n",
       "  0.8668749928474426,\n",
       "  0.8698437213897705,\n",
       "  0.8698437213897705,\n",
       "  0.8667187690734863,\n",
       "  0.8678125143051147,\n",
       "  0.8707812428474426,\n",
       "  0.8695312738418579,\n",
       "  0.8700000047683716,\n",
       "  0.8700000047683716,\n",
       "  0.8698437213897705,\n",
       "  0.8671875,\n",
       "  0.8701562285423279,\n",
       "  0.8689062595367432,\n",
       "  0.8700000047683716,\n",
       "  0.8709375262260437,\n",
       "  0.8709375262260437,\n",
       "  0.8709375262260437,\n",
       "  0.8698437213897705,\n",
       "  0.8687499761581421,\n",
       "  0.8693749904632568,\n",
       "  0.8690624833106995],\n",
       " 'loss': [0.555523693561554,\n",
       "  0.45283907651901245,\n",
       "  0.43363121151924133,\n",
       "  0.42322325706481934,\n",
       "  0.4132934510707855,\n",
       "  0.40272003412246704,\n",
       "  0.39194443821907043,\n",
       "  0.38195517659187317,\n",
       "  0.3725121021270752,\n",
       "  0.36490485072135925,\n",
       "  0.3601554036140442,\n",
       "  0.3558030426502228,\n",
       "  0.35314980149269104,\n",
       "  0.3512449264526367,\n",
       "  0.3485608696937561,\n",
       "  0.34762072563171387,\n",
       "  0.34603333473205566,\n",
       "  0.3445063829421997,\n",
       "  0.3435802757740021,\n",
       "  0.3423776924610138,\n",
       "  0.3420514762401581,\n",
       "  0.34105488657951355,\n",
       "  0.3395003378391266,\n",
       "  0.3393997550010681,\n",
       "  0.3389384150505066,\n",
       "  0.3383004665374756,\n",
       "  0.33724576234817505,\n",
       "  0.336656391620636,\n",
       "  0.33600538969039917,\n",
       "  0.335694283246994,\n",
       "  0.33550551533699036,\n",
       "  0.3346233367919922,\n",
       "  0.33385181427001953,\n",
       "  0.33376842737197876,\n",
       "  0.333252489566803,\n",
       "  0.3332379162311554,\n",
       "  0.3322143256664276,\n",
       "  0.3320144712924957,\n",
       "  0.33192166686058044,\n",
       "  0.3305410146713257,\n",
       "  0.33117857575416565,\n",
       "  0.330497145652771,\n",
       "  0.32991287112236023,\n",
       "  0.3298233151435852,\n",
       "  0.32925307750701904,\n",
       "  0.3288390636444092,\n",
       "  0.32874950766563416,\n",
       "  0.32820048928260803,\n",
       "  0.32847094535827637,\n",
       "  0.32841596007347107,\n",
       "  0.3271985352039337,\n",
       "  0.32764819264411926,\n",
       "  0.32753440737724304,\n",
       "  0.3269197940826416,\n",
       "  0.3265601396560669,\n",
       "  0.32693812251091003,\n",
       "  0.32622233033180237,\n",
       "  0.32644930481910706,\n",
       "  0.3257543444633484,\n",
       "  0.32592472434043884,\n",
       "  0.32563886046409607,\n",
       "  0.32525959610939026,\n",
       "  0.32528114318847656,\n",
       "  0.32541435956954956,\n",
       "  0.32478848099708557,\n",
       "  0.32470351457595825,\n",
       "  0.32454338669776917,\n",
       "  0.3245074152946472,\n",
       "  0.324840784072876,\n",
       "  0.3239535093307495,\n",
       "  0.32401520013809204,\n",
       "  0.3235364258289337,\n",
       "  0.32401230931282043,\n",
       "  0.3232247233390808,\n",
       "  0.323984295129776,\n",
       "  0.32315486669540405,\n",
       "  0.322734534740448,\n",
       "  0.3229752480983734,\n",
       "  0.3231531083583832,\n",
       "  0.322948694229126,\n",
       "  0.3228245973587036,\n",
       "  0.3224371373653412,\n",
       "  0.3226901888847351,\n",
       "  0.32250842452049255,\n",
       "  0.32241570949554443,\n",
       "  0.32261455059051514,\n",
       "  0.3227013051509857,\n",
       "  0.3217899203300476,\n",
       "  0.32188037037849426,\n",
       "  0.3215647041797638,\n",
       "  0.3219245970249176,\n",
       "  0.32140281796455383,\n",
       "  0.32095614075660706,\n",
       "  0.3210495412349701,\n",
       "  0.3208034932613373,\n",
       "  0.3211953043937683,\n",
       "  0.32090675830841064,\n",
       "  0.3209284543991089,\n",
       "  0.3203856647014618,\n",
       "  0.32101237773895264],\n",
       " 'val_accuracy': [0.7993749976158142,\n",
       "  0.8037499785423279,\n",
       "  0.8075000047683716,\n",
       "  0.8131250143051147,\n",
       "  0.815625011920929,\n",
       "  0.8218749761581421,\n",
       "  0.8324999809265137,\n",
       "  0.8418750166893005,\n",
       "  0.8450000286102295,\n",
       "  0.8487499952316284,\n",
       "  0.8500000238418579,\n",
       "  0.8493750095367432,\n",
       "  0.8462499976158142,\n",
       "  0.8506249785423279,\n",
       "  0.8525000214576721,\n",
       "  0.8506249785423279,\n",
       "  0.8537499904632568,\n",
       "  0.8493750095367432,\n",
       "  0.8506249785423279,\n",
       "  0.8493750095367432,\n",
       "  0.8481249809265137,\n",
       "  0.8537499904632568,\n",
       "  0.8512499928474426,\n",
       "  0.8475000262260437,\n",
       "  0.8531249761581421,\n",
       "  0.8506249785423279,\n",
       "  0.8512499928474426,\n",
       "  0.8506249785423279,\n",
       "  0.8543750047683716,\n",
       "  0.8537499904632568,\n",
       "  0.8550000190734863,\n",
       "  0.8512499928474426,\n",
       "  0.8518750071525574,\n",
       "  0.8518750071525574,\n",
       "  0.8518750071525574,\n",
       "  0.8506249785423279,\n",
       "  0.8525000214576721,\n",
       "  0.8531249761581421,\n",
       "  0.8531249761581421,\n",
       "  0.8512499928474426,\n",
       "  0.8525000214576721,\n",
       "  0.8556249737739563,\n",
       "  0.8531249761581421,\n",
       "  0.8537499904632568,\n",
       "  0.8537499904632568,\n",
       "  0.8568750023841858,\n",
       "  0.8575000166893005,\n",
       "  0.8550000190734863,\n",
       "  0.8568750023841858,\n",
       "  0.8575000166893005,\n",
       "  0.8587499856948853,\n",
       "  0.859375,\n",
       "  0.8537499904632568,\n",
       "  0.8568750023841858,\n",
       "  0.8587499856948853,\n",
       "  0.8543750047683716,\n",
       "  0.8518750071525574,\n",
       "  0.8568750023841858,\n",
       "  0.8550000190734863,\n",
       "  0.8568750023841858,\n",
       "  0.8600000143051147,\n",
       "  0.8587499856948853,\n",
       "  0.8568750023841858,\n",
       "  0.8575000166893005,\n",
       "  0.8587499856948853,\n",
       "  0.8543750047683716,\n",
       "  0.8568750023841858,\n",
       "  0.8600000143051147,\n",
       "  0.8568750023841858,\n",
       "  0.8568750023841858,\n",
       "  0.8550000190734863,\n",
       "  0.8518750071525574,\n",
       "  0.8556249737739563,\n",
       "  0.8568750023841858,\n",
       "  0.859375,\n",
       "  0.8556249737739563,\n",
       "  0.8581249713897705,\n",
       "  0.8575000166893005,\n",
       "  0.8568750023841858,\n",
       "  0.8575000166893005,\n",
       "  0.8581249713897705,\n",
       "  0.8600000143051147,\n",
       "  0.8525000214576721,\n",
       "  0.8537499904632568,\n",
       "  0.8581249713897705,\n",
       "  0.8525000214576721,\n",
       "  0.856249988079071,\n",
       "  0.856249988079071,\n",
       "  0.856249988079071,\n",
       "  0.8550000190734863,\n",
       "  0.8568750023841858,\n",
       "  0.8568750023841858,\n",
       "  0.8575000166893005,\n",
       "  0.8543750047683716,\n",
       "  0.8575000166893005,\n",
       "  0.8575000166893005,\n",
       "  0.8568750023841858,\n",
       "  0.8550000190734863,\n",
       "  0.8581249713897705,\n",
       "  0.856249988079071],\n",
       " 'val_loss': [0.4749072790145874,\n",
       "  0.44396576285362244,\n",
       "  0.43209803104400635,\n",
       "  0.42239856719970703,\n",
       "  0.41120538115501404,\n",
       "  0.40155696868896484,\n",
       "  0.3911374807357788,\n",
       "  0.3790300786495209,\n",
       "  0.3704579472541809,\n",
       "  0.3651789724826813,\n",
       "  0.35963165760040283,\n",
       "  0.3574812412261963,\n",
       "  0.35523003339767456,\n",
       "  0.3537759780883789,\n",
       "  0.3519262373447418,\n",
       "  0.3526281714439392,\n",
       "  0.3501950800418854,\n",
       "  0.3521524667739868,\n",
       "  0.34992846846580505,\n",
       "  0.3493884205818176,\n",
       "  0.3498554527759552,\n",
       "  0.3484698534011841,\n",
       "  0.3493543863296509,\n",
       "  0.35145702958106995,\n",
       "  0.3480086922645569,\n",
       "  0.3477832078933716,\n",
       "  0.35057520866394043,\n",
       "  0.35045361518859863,\n",
       "  0.3504990041255951,\n",
       "  0.3498189151287079,\n",
       "  0.3487146496772766,\n",
       "  0.3491593599319458,\n",
       "  0.35043415427207947,\n",
       "  0.3493328094482422,\n",
       "  0.34951847791671753,\n",
       "  0.3501395881175995,\n",
       "  0.3507288992404938,\n",
       "  0.3486897647380829,\n",
       "  0.34881556034088135,\n",
       "  0.35051578283309937,\n",
       "  0.34949347376823425,\n",
       "  0.348927766084671,\n",
       "  0.3508472740650177,\n",
       "  0.34964698553085327,\n",
       "  0.3498899042606354,\n",
       "  0.3479480743408203,\n",
       "  0.3484630584716797,\n",
       "  0.34980764985084534,\n",
       "  0.34959498047828674,\n",
       "  0.3482290506362915,\n",
       "  0.34895503520965576,\n",
       "  0.34784388542175293,\n",
       "  0.348550945520401,\n",
       "  0.34738895297050476,\n",
       "  0.34724926948547363,\n",
       "  0.3500766456127167,\n",
       "  0.351746141910553,\n",
       "  0.34851905703544617,\n",
       "  0.3500981032848358,\n",
       "  0.3486884832382202,\n",
       "  0.34874576330184937,\n",
       "  0.3494489789009094,\n",
       "  0.348554790019989,\n",
       "  0.34935101866722107,\n",
       "  0.3483724892139435,\n",
       "  0.3495447039604187,\n",
       "  0.3507291376590729,\n",
       "  0.34836333990097046,\n",
       "  0.3498828411102295,\n",
       "  0.3498358428478241,\n",
       "  0.3514403998851776,\n",
       "  0.34906622767448425,\n",
       "  0.34841346740722656,\n",
       "  0.34823933243751526,\n",
       "  0.34887731075286865,\n",
       "  0.3526187539100647,\n",
       "  0.3496110439300537,\n",
       "  0.3489176630973816,\n",
       "  0.3509135842323303,\n",
       "  0.3502376973628998,\n",
       "  0.3491736352443695,\n",
       "  0.349183052778244,\n",
       "  0.3505220413208008,\n",
       "  0.35012581944465637,\n",
       "  0.3494053781032562,\n",
       "  0.35194504261016846,\n",
       "  0.35157063603401184,\n",
       "  0.34944289922714233,\n",
       "  0.3499850928783417,\n",
       "  0.34884583950042725,\n",
       "  0.3487858176231384,\n",
       "  0.34916484355926514,\n",
       "  0.349081814289093,\n",
       "  0.3488451838493347,\n",
       "  0.3484441339969635,\n",
       "  0.3497298061847687,\n",
       "  0.3519471287727356,\n",
       "  0.34953469038009644,\n",
       "  0.3512258231639862,\n",
       "  0.3502681851387024]}"
      ]
     },
     "execution_count": 38,
     "metadata": {},
     "output_type": "execute_result"
    }
   ],
   "source": [
    "# this is a dictionary in which there is 4 values these are \n",
    "# loss,val_loss,accuracy,val_acccuracy\n",
    "history.history"
   ]
  },
  {
   "cell_type": "code",
   "execution_count": 39,
   "id": "f0eda1c4",
   "metadata": {
    "execution": {
     "iopub.execute_input": "2025-06-19T12:07:33.538379Z",
     "iopub.status.busy": "2025-06-19T12:07:33.538056Z",
     "iopub.status.idle": "2025-06-19T12:07:33.791388Z",
     "shell.execute_reply": "2025-06-19T12:07:33.790416Z"
    },
    "papermill": {
     "duration": 0.316326,
     "end_time": "2025-06-19T12:07:33.793479",
     "exception": false,
     "start_time": "2025-06-19T12:07:33.477153",
     "status": "completed"
    },
    "tags": []
   },
   "outputs": [
    {
     "data": {
      "text/plain": [
       "[<matplotlib.lines.Line2D at 0x79290ef69e90>]"
      ]
     },
     "execution_count": 39,
     "metadata": {},
     "output_type": "execute_result"
    },
    {
     "data": {
      "image/png": "[encoded data removed]",
      "text/plain": [
       "<Figure size 640x480 with 1 Axes>"
      ]
     },
     "metadata": {},
     "output_type": "display_data"
    }
   ],
   "source": [
    "# ploting all 4 values in the graph\n",
    "plt.plot(history.history['loss'])\n",
    "plt.plot(history.history['val_loss'])\n",
    "plt.plot(history.history['accuracy'])\n",
    "plt.plot(history.history['val_accuracy'])"
   ]
  },
  {
   "cell_type": "code",
   "execution_count": null,
   "id": "8daf3f3c",
   "metadata": {
    "papermill": {
     "duration": 0.056882,
     "end_time": "2025-06-19T12:07:33.909280",
     "exception": false,
     "start_time": "2025-06-19T12:07:33.852398",
     "status": "completed"
    },
    "tags": []
   },
   "outputs": [],
   "source": []
  }
 ],
 "metadata": {
  "kaggle": {
   "accelerator": "none",
   "dataSources": [
    {
     "datasetId": 869651,
     "sourceId": 1481789,
     "sourceType": "datasetVersion"
    }
   ],
   "dockerImageVersionId": 31040,
   "isGpuEnabled": false,
   "isInternetEnabled": false,
   "language": "python",
   "sourceType": "notebook"
  },
  "kernelspec": {
   "display_name": "Python 3",
   "language": "python",
   "name": "python3"
  },
  "language_info": {
   "codemirror_mode": {
    "name": "ipython",
    "version": 3
   },
   "file_extension": ".py",
   "mimetype": "text/x-python",
   "name": "python",
   "nbconvert_exporter": "python",
   "pygments_lexer": "ipython3",
   "version": "3.11.11"
  },
  "papermill": {
   "default_parameters": {},
   "duration": 87.321308,
   "end_time": "2025-06-19T12:07:37.496375",
   "environment_variables": {},
   "exception": null,
   "input_path": "__notebook__.ipynb",
   "output_path": "__notebook__.ipynb",
   "parameters": {},
   "start_time": "2025-06-19T12:06:10.175067",
   "version": "2.6.0"
  }
 },
 "nbformat": 4,
 "nbformat_minor": 5
}
